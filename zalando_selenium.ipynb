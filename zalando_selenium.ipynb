{
 "cells": [
  {
   "cell_type": "markdown",
   "id": "0ff967d7",
   "metadata": {},
   "source": [
    "# Zalando scraper"
   ]
  },
  {
   "cell_type": "code",
   "execution_count": 247,
   "id": "55e811be",
   "metadata": {},
   "outputs": [],
   "source": [
    "## GOOD TO KNOW \n",
    "\n",
    "# website = https://zalando.nl/pre-owned-mode-heren/index.html\n",
    "# article class = _0mW-4D _0xLoFW JT3_zV mo6ZnF _78xIQ- U4aOaA\n",
    "# figure class = heWLCX\n",
    "# tag product brand names = <span> \n",
    "# inspecting a product gives us: <a class=\"_LM JT3_zV CKDt_l CKDt_l LyRfpJ\"href=\"https://www.zalando.nl/g-star-overhemd-blue-zir01hbly-001.html\" rel=\"\">\n"
   ]
  },
  {
   "cell_type": "code",
   "execution_count": null,
   "id": "0701b399",
   "metadata": {},
   "outputs": [],
   "source": []
  },
  {
   "cell_type": "code",
   "execution_count": 248,
   "id": "97071708",
   "metadata": {},
   "outputs": [],
   "source": [
    "# Import packages\n",
    "from bs4 import BeautifulSoup\n",
    "import requests\n",
    "import time \n",
    "from time import sleep\n",
    "from datetime import datetime\n",
    "import csv\n",
    "import pandas as pd\n",
    "\n",
    "# Make selenium and chromedriver work\n",
    "from selenium import webdriver\n",
    "from selenium.webdriver.chrome.options import Options\n",
    "from webdriver_manager.chrome import ChromeDriverManager"
   ]
  },
  {
   "cell_type": "code",
   "execution_count": 249,
   "id": "f5d571c9",
   "metadata": {},
   "outputs": [],
   "source": [
    "#debug = {'verbose': sys.stderr}\n",
    "user_agent = {'User-agent': 'Mozilla/5.0 (Windows NT 10.0; Win64; x64) AppleWebKit/537.36 (KHTML, like Gecko) Chrome/98.0.4758.102 Safari/537.36 Edg/98.0.1108.62'}  "
   ]
  },
  {
   "cell_type": "code",
   "execution_count": 250,
   "id": "c4c5f77f",
   "metadata": {},
   "outputs": [
    {
     "name": "stderr",
     "output_type": "stream",
     "text": [
      "\n",
      "\n",
      "====== WebDriver manager ======\n",
      "Current google-chrome version is 99.0.4844\n",
      "Get LATEST chromedriver version for 99.0.4844 google-chrome\n",
      "Driver [/Users/sannevanettinger/.wdm/drivers/chromedriver/mac64/99.0.4844.51/chromedriver] found in cache\n"
     ]
    },
    {
     "name": "stdout",
     "output_type": "stream",
     "text": [
      "done\n"
     ]
    }
   ],
   "source": [
    "# use webdriver.Chrome()\n",
    "driver = webdriver.Chrome(ChromeDriverManager().install())\n",
    "\n",
    "# run Zalando Pre-owned \n",
    "driver.get(\"https://www.zalando.nl/pre-owned-mode-heren/\")\n",
    "time.sleep(10)\n",
    "print(\"done\")\n"
   ]
  },
  {
   "cell_type": "code",
   "execution_count": 251,
   "id": "4cef5fcc",
   "metadata": {},
   "outputs": [
    {
     "data": {
      "text/plain": [
       "[<selenium.webdriver.remote.webelement.WebElement (session=\"5c9d19d0313708ef3a2cdc513f877452\", element=\"04747abb-64c7-4bd2-a71d-82354f119270\")>]"
      ]
     },
     "execution_count": 251,
     "metadata": {},
     "output_type": "execute_result"
    }
   ],
   "source": [
    "# accept button on the website (close pop-ups before proceeding)\n",
    "\n",
    "driver.find_elements_by_class_name(\"uc-btn-primary\")"
   ]
  },
  {
   "cell_type": "code",
   "execution_count": 252,
   "id": "0c26aaf9",
   "metadata": {},
   "outputs": [],
   "source": [
    "# Create a function to collect all page urls\n",
    "base_url = \"https://www.zalando.nl/pre-owned-mode-heren/?p=\"\n",
    "counter = 1\n",
    "\n",
    "# Now create the function\n",
    "def generate_page_urls(base_url, num_pages):\n",
    "    page_urls = []\n",
    "    \n",
    "    for counter in range (1, num_pages + 1):\n",
    "        full_url = base_url + str(counter)\n",
    "        page_urls.append(full_url)\n",
    "    \n",
    "    return page_urls"
   ]
  },
  {
   "cell_type": "code",
   "execution_count": 253,
   "id": "47807f76",
   "metadata": {},
   "outputs": [
    {
     "data": {
      "text/plain": [
       "['https://www.zalando.nl/pre-owned-mode-heren/?p=1',\n",
       " 'https://www.zalando.nl/pre-owned-mode-heren/?p=2',\n",
       " 'https://www.zalando.nl/pre-owned-mode-heren/?p=3',\n",
       " 'https://www.zalando.nl/pre-owned-mode-heren/?p=4',\n",
       " 'https://www.zalando.nl/pre-owned-mode-heren/?p=5',\n",
       " 'https://www.zalando.nl/pre-owned-mode-heren/?p=6',\n",
       " 'https://www.zalando.nl/pre-owned-mode-heren/?p=7',\n",
       " 'https://www.zalando.nl/pre-owned-mode-heren/?p=8',\n",
       " 'https://www.zalando.nl/pre-owned-mode-heren/?p=9',\n",
       " 'https://www.zalando.nl/pre-owned-mode-heren/?p=10',\n",
       " 'https://www.zalando.nl/pre-owned-mode-heren/?p=11',\n",
       " 'https://www.zalando.nl/pre-owned-mode-heren/?p=12',\n",
       " 'https://www.zalando.nl/pre-owned-mode-heren/?p=13',\n",
       " 'https://www.zalando.nl/pre-owned-mode-heren/?p=14',\n",
       " 'https://www.zalando.nl/pre-owned-mode-heren/?p=15',\n",
       " 'https://www.zalando.nl/pre-owned-mode-heren/?p=16',\n",
       " 'https://www.zalando.nl/pre-owned-mode-heren/?p=17',\n",
       " 'https://www.zalando.nl/pre-owned-mode-heren/?p=18',\n",
       " 'https://www.zalando.nl/pre-owned-mode-heren/?p=19',\n",
       " 'https://www.zalando.nl/pre-owned-mode-heren/?p=20']"
      ]
     },
     "execution_count": 253,
     "metadata": {},
     "output_type": "execute_result"
    }
   ],
   "source": [
    "page_urls = generate_page_urls(base_url, 2) \n",
    "\n",
    "generate_page_urls(\"https://www.zalando.nl/pre-owned-mode-heren/?p=\", 20)"
   ]
  },
  {
   "cell_type": "code",
   "execution_count": 254,
   "id": "151a7e6f",
   "metadata": {},
   "outputs": [],
   "source": [
    "# Create a function to collect the product_urls\n",
    "def create_product_urls(page_urls):\n",
    "    product_urls = []\n",
    "    cnt=1\n",
    "    for page_url in page_urls:\n",
    "        cnt+=1\n",
    "        driver.get(page_url)\n",
    "        time.sleep(5)\n",
    "        res = driver.page_source.encode('utf-8')\n",
    "        soup = BeautifulSoup(res, \"html.parser\")\n",
    "        soup.find(attrs={\"data-trckng-component\": \"108K26XfnVjkToLFd4EmD\"})\n",
    "        print(len(products))\n",
    "        sleep(1)\n",
    "\n",
    "        for product in products:\n",
    "            try:\n",
    "                product_url = product.find(\"a\").attrs[\"href\"]\n",
    "                print(product_url)\n",
    "                product_urls.append(product_url)\n",
    "            except:\n",
    "                print(\"dit is geen product\")\n",
    "                \n",
    "    return product_urls"
   ]
  },
  {
   "cell_type": "code",
   "execution_count": null,
   "id": "8b12fb53",
   "metadata": {},
   "outputs": [],
   "source": []
  },
  {
   "cell_type": "code",
   "execution_count": 255,
   "id": "bca3b8ae",
   "metadata": {},
   "outputs": [
    {
     "name": "stdout",
     "output_type": "stream",
     "text": [
      "85\n",
      "https://www.zalando.nl/pure-overhemd-red-zir01d4f3-001.html\n",
      "https://www.zalando.nl/hugo-overhemd-pink-zir01rxk1-001.html\n",
      "https://www.zalando.nl/olymp-overhemd-grey-zir01rjtw-001.html\n",
      "https://www.zalando.nl/anerkjendt-overhemd-green-zir01d4p5-001.html\n",
      "https://www.zalando.nl/ben-sherman-vest-multi-colored-zir01qfya-001.html\n",
      "https://www.zalando.nl/gaudi-vest-black-zir01sjqi-001.html\n",
      "https://www.zalando.nl/john-richmond-vest-brown-zir01sjgq-001.html\n",
      "https://www.zalando.nl/mads-noergaard-vest-blue-zir01scdb-001.html\n",
      "https://www.zalando.nl/jack-and-jones-vest-blue-zir01skf8-001.html\n",
      "https://www.zalando.nl/cadeaubonnen\n",
      "https://www.zalando.nl/jack-and-jones-vest-brown-zir01qhtq-001.html\n",
      "https://www.zalando.nl/boss-sweater-met-rits-grey-zir01sjur-001.html\n",
      "https://www.zalando.nl/g-star-sweater-met-rits-grey-zir01t5tr-001.html\n",
      "https://www.zalando.nl/jlindeberg-vest-blue-zir01qh50-001.html\n",
      "https://www.zalando.nl/pierre-cardin-broek-green-zir01nw25-001.html\n",
      "https://www.zalando.nl/hugo-broek-grey-zir01s4je-001.html\n",
      "https://www.zalando.nl/levis-engineered-jeans-straight-leg-jeans-blue-zir01rrxf-001.html\n",
      "https://www.zalando.nl/levis-straight-leg-jeans-blue-zir01rrk1-001.html\n",
      "https://www.zalando.nl/jack-and-jones-straight-leg-jeans-blue-zir01t3li-001.html\n",
      "https://www.zalando.nl/meyer-chino-blue-zir01rzw9-001.html\n",
      "https://www.zalando.nl/g-star-straight-leg-jeans-blue-zir01shl0-001.html\n",
      "https://www.zalando.nl/tommy-hilfiger-straight-leg-jeans-blue-zir01sbak-001.html\n",
      "https://www.zalando.nl/tiger-of-sweden-broek-beige-zir01sjv8-001.html\n",
      "https://www.zalando.nl/carhartt-wip-broek-beige-zir00u02z-001.html\n",
      "https://www.zalando.nl/lee-straight-leg-jeans-blue-zir01sk01-001.html\n",
      "https://www.zalando.nl/gabba-straight-leg-jeans-blue-zir01s9qd-001.html\n",
      "https://www.zalando.nl/one-green-elephant-relaxed-fit-jeans-blue-zir01sjik-001.html\n",
      "https://www.zalando.nl/levis-broek-beige-zir01shjn-001.html\n",
      "https://www.zalando.nl/burton-broek-grey-zir01s8gr-001.html\n",
      "https://www.zalando.nl/replay-straight-leg-jeans-blue-zir01smh0-001.html\n",
      "https://www.zalando.nl/armani-jeans-straight-leg-jeans-black-zir01s5sa-001.html\n",
      "https://www.zalando.nl/selected-homme-chino-brown-zir01se4d-001.html\n",
      "https://www.zalando.nl/wrangler-slim-fit-jeans-blue-zir01sdml-001.html\n",
      "https://www.zalando.nl/brax-broek-green-zir01sdru-001.html\n",
      "https://www.zalando.nl/hilfiger-denim-straight-leg-jeans-orange-zir01sc3s-001.html\n",
      "https://www.zalando.nl/boss-chino-black-zir01sfxl-001.html\n",
      "https://www.zalando.nl/just-cavalli-slim-fit-jeans-blue-zir01sjlj-001.html\n",
      "https://www.zalando.nl/brax-broek-sand-zir01sg9b-001.html\n",
      "https://www.zalando.nl/pme-legend-slim-fit-jeans-blue-zir01s7d5-001.html\n",
      "https://www.zalando.nl/nn07-slim-fit-jeans-blue-zir01sdjn-001.html\n",
      "https://www.zalando.nl/mac-jeans-broek-brown-zir01sfip-001.html\n",
      "https://www.zalando.nl/boss-chino-brown-zir01sc8b-001.html\n",
      "https://www.zalando.nl/brax-broek-beige-zir01scd5-001.html\n",
      "https://www.zalando.nl/pierre-cardin-broek-black-zir01sf6t-001.html\n",
      "https://www.zalando.nl/levis-slim-fit-jeans-blue-zir01shnb-001.html\n",
      "https://www.zalando.nl/bogner-straight-leg-jeans-blue-zir01s7gl-001.html\n",
      "https://www.zalando.nl/mac-jeans-straight-leg-jeans-blue-zir01sgu0-001.html\n",
      "https://www.zalando.nl/nn07-broek-blue-zir01sl6g-001.html\n",
      "https://www.zalando.nl/gardeur-broek-beige-zir01sj2d-001.html\n",
      "https://www.zalando.nl/brax-broek-beige-zir01s62w-001.html\n",
      "https://www.zalando.nl/soliver-straight-leg-jeans-blue-zir01t04a-001.html\n",
      "https://www.zalando.nl/hugo-broek-black-zir01sh7j-001.html\n",
      "https://www.zalando.nl/bruun-and-stengade-broek-grey-zir01slb8-001.html\n",
      "https://www.zalando.nl/tom-tailor-denim-chino-beige-zir01sf95-001.html\n",
      "https://www.zalando.nl/guess-straight-leg-jeans-blue-zir01sea2-001.html\n",
      "https://www.zalando.nl/jlindeberg-slim-fit-jeans-grey-zir01s65u-001.html\n",
      "https://www.zalando.nl/oneill-broek-beige-zir01sfz6-001.html\n",
      "https://www.zalando.nl/meyer-broek-pink-zir01sf2b-001.html\n",
      "https://www.zalando.nl/esprit-collection-chino-black-zir01sd75-001.html\n",
      "https://www.zalando.nl/boden-broek-blue-zir01rz5c-001.html\n",
      "https://www.zalando.nl/gant-broek-brown-zir01sbf3-001.html\n",
      "https://www.zalando.nl/brax-broek-brown-zir01sdin-001.html\n",
      "https://www.zalando.nl/selected-homme-chino-brown-zir01sjgf-001.html\n",
      "https://www.zalando.nl/jack-and-jones-cargobroek-grey-zir01sjbg-001.html\n",
      "https://www.zalando.nl/diesel-straight-leg-jeans-blue-zir01slc6-001.html\n",
      "https://www.zalando.nl/gabba-straight-leg-jeans-blue-zir01s922-001.html\n",
      "https://www.zalando.nl/drykorn-broek-beige-zir01sk5b-001.html\n",
      "https://www.zalando.nl/cleptomanicx-shorts-brown-zir01slcw-001.html\n",
      "https://www.zalando.nl/hugo-chino-black-zir01si8n-001.html\n",
      "https://www.zalando.nl/gardeur-chino-brown-zir01sj5k-001.html\n",
      "https://www.zalando.nl/diesel-straight-leg-jeans-blue-zir01sfob-001.html\n",
      "https://www.zalando.nl/boss-chino-green-zir01sb62-001.html\n",
      "https://www.zalando.nl/nudie-jeans-slim-fit-jeans-blue-zir01sejc-001.html\n",
      "https://www.zalando.nl/g-star-straight-leg-jeans-blue-zir01skiw-001.html\n",
      "https://www.zalando.nl/levis-straight-leg-jeans-blue-zir01sb84-001.html\n",
      "https://www.zalando.nl/scotch-and-soda-shorts-brown-zir01skvj-001.html\n",
      "https://www.zalando.nl/polo-ralph-lauren-broek-blue-zir01sjb9-001.html\n",
      "https://www.zalando.nl/bonita-broek-black-zir01sjaj-001.html\n",
      "https://www.zalando.nl/hilfiger-denim-straight-leg-jeans-blue-zir01s711-001.html\n",
      "https://www.zalando.nl/replay-straight-leg-jeans-blue-zir01scxc-001.html\n",
      "https://www.zalando.nl/guru-jeans-tapered-fit-blue-zir01sf55-001.html\n",
      "https://www.zalando.nl/brax-broek-yellow-zir01sbg8-001.html\n",
      "https://www.zalando.nl/aigner-broek-beige-zir01t56b-001.html\n",
      "https://www.zalando.nl/meyer-pantalon-black-zir01sdx4-001.html\n",
      "https://www.zalando.nl/tiger-of-sweden-chino-grey-zir01sk2v-001.html\n",
      "85\n",
      "https://www.zalando.nl/pure-overhemd-red-zir01d4f3-001.html\n",
      "https://www.zalando.nl/hugo-overhemd-pink-zir01rxk1-001.html\n",
      "https://www.zalando.nl/olymp-overhemd-grey-zir01rjtw-001.html\n",
      "https://www.zalando.nl/anerkjendt-overhemd-green-zir01d4p5-001.html\n",
      "https://www.zalando.nl/ben-sherman-vest-multi-colored-zir01qfya-001.html\n",
      "https://www.zalando.nl/gaudi-vest-black-zir01sjqi-001.html\n",
      "https://www.zalando.nl/john-richmond-vest-brown-zir01sjgq-001.html\n",
      "https://www.zalando.nl/mads-noergaard-vest-blue-zir01scdb-001.html\n",
      "https://www.zalando.nl/jack-and-jones-vest-blue-zir01skf8-001.html\n",
      "https://www.zalando.nl/cadeaubonnen\n",
      "https://www.zalando.nl/jack-and-jones-vest-brown-zir01qhtq-001.html\n",
      "https://www.zalando.nl/boss-sweater-met-rits-grey-zir01sjur-001.html\n",
      "https://www.zalando.nl/g-star-sweater-met-rits-grey-zir01t5tr-001.html\n",
      "https://www.zalando.nl/jlindeberg-vest-blue-zir01qh50-001.html\n",
      "https://www.zalando.nl/pierre-cardin-broek-green-zir01nw25-001.html\n",
      "https://www.zalando.nl/hugo-broek-grey-zir01s4je-001.html\n",
      "https://www.zalando.nl/levis-engineered-jeans-straight-leg-jeans-blue-zir01rrxf-001.html\n",
      "https://www.zalando.nl/levis-straight-leg-jeans-blue-zir01rrk1-001.html\n",
      "https://www.zalando.nl/jack-and-jones-straight-leg-jeans-blue-zir01t3li-001.html\n",
      "https://www.zalando.nl/meyer-chino-blue-zir01rzw9-001.html\n",
      "https://www.zalando.nl/g-star-straight-leg-jeans-blue-zir01shl0-001.html\n",
      "https://www.zalando.nl/tommy-hilfiger-straight-leg-jeans-blue-zir01sbak-001.html\n",
      "https://www.zalando.nl/tiger-of-sweden-broek-beige-zir01sjv8-001.html\n",
      "https://www.zalando.nl/carhartt-wip-broek-beige-zir00u02z-001.html\n",
      "https://www.zalando.nl/lee-straight-leg-jeans-blue-zir01sk01-001.html\n",
      "https://www.zalando.nl/gabba-straight-leg-jeans-blue-zir01s9qd-001.html\n",
      "https://www.zalando.nl/one-green-elephant-relaxed-fit-jeans-blue-zir01sjik-001.html\n",
      "https://www.zalando.nl/levis-broek-beige-zir01shjn-001.html\n",
      "https://www.zalando.nl/burton-broek-grey-zir01s8gr-001.html\n",
      "https://www.zalando.nl/replay-straight-leg-jeans-blue-zir01smh0-001.html\n",
      "https://www.zalando.nl/armani-jeans-straight-leg-jeans-black-zir01s5sa-001.html\n",
      "https://www.zalando.nl/selected-homme-chino-brown-zir01se4d-001.html\n",
      "https://www.zalando.nl/wrangler-slim-fit-jeans-blue-zir01sdml-001.html\n",
      "https://www.zalando.nl/brax-broek-green-zir01sdru-001.html\n",
      "https://www.zalando.nl/hilfiger-denim-straight-leg-jeans-orange-zir01sc3s-001.html\n",
      "https://www.zalando.nl/boss-chino-black-zir01sfxl-001.html\n",
      "https://www.zalando.nl/just-cavalli-slim-fit-jeans-blue-zir01sjlj-001.html\n",
      "https://www.zalando.nl/brax-broek-sand-zir01sg9b-001.html\n",
      "https://www.zalando.nl/pme-legend-slim-fit-jeans-blue-zir01s7d5-001.html\n",
      "https://www.zalando.nl/nn07-slim-fit-jeans-blue-zir01sdjn-001.html\n",
      "https://www.zalando.nl/mac-jeans-broek-brown-zir01sfip-001.html\n",
      "https://www.zalando.nl/boss-chino-brown-zir01sc8b-001.html\n",
      "https://www.zalando.nl/brax-broek-beige-zir01scd5-001.html\n",
      "https://www.zalando.nl/pierre-cardin-broek-black-zir01sf6t-001.html\n",
      "https://www.zalando.nl/levis-slim-fit-jeans-blue-zir01shnb-001.html\n",
      "https://www.zalando.nl/bogner-straight-leg-jeans-blue-zir01s7gl-001.html\n",
      "https://www.zalando.nl/mac-jeans-straight-leg-jeans-blue-zir01sgu0-001.html\n",
      "https://www.zalando.nl/nn07-broek-blue-zir01sl6g-001.html\n",
      "https://www.zalando.nl/gardeur-broek-beige-zir01sj2d-001.html\n",
      "https://www.zalando.nl/brax-broek-beige-zir01s62w-001.html\n",
      "https://www.zalando.nl/soliver-straight-leg-jeans-blue-zir01t04a-001.html\n",
      "https://www.zalando.nl/hugo-broek-black-zir01sh7j-001.html\n",
      "https://www.zalando.nl/bruun-and-stengade-broek-grey-zir01slb8-001.html\n",
      "https://www.zalando.nl/tom-tailor-denim-chino-beige-zir01sf95-001.html\n",
      "https://www.zalando.nl/guess-straight-leg-jeans-blue-zir01sea2-001.html\n",
      "https://www.zalando.nl/jlindeberg-slim-fit-jeans-grey-zir01s65u-001.html\n",
      "https://www.zalando.nl/oneill-broek-beige-zir01sfz6-001.html\n",
      "https://www.zalando.nl/meyer-broek-pink-zir01sf2b-001.html\n",
      "https://www.zalando.nl/esprit-collection-chino-black-zir01sd75-001.html\n",
      "https://www.zalando.nl/boden-broek-blue-zir01rz5c-001.html\n",
      "https://www.zalando.nl/gant-broek-brown-zir01sbf3-001.html\n",
      "https://www.zalando.nl/brax-broek-brown-zir01sdin-001.html\n",
      "https://www.zalando.nl/selected-homme-chino-brown-zir01sjgf-001.html\n",
      "https://www.zalando.nl/jack-and-jones-cargobroek-grey-zir01sjbg-001.html\n",
      "https://www.zalando.nl/diesel-straight-leg-jeans-blue-zir01slc6-001.html\n",
      "https://www.zalando.nl/gabba-straight-leg-jeans-blue-zir01s922-001.html\n",
      "https://www.zalando.nl/drykorn-broek-beige-zir01sk5b-001.html\n",
      "https://www.zalando.nl/cleptomanicx-shorts-brown-zir01slcw-001.html\n",
      "https://www.zalando.nl/hugo-chino-black-zir01si8n-001.html\n",
      "https://www.zalando.nl/gardeur-chino-brown-zir01sj5k-001.html\n",
      "https://www.zalando.nl/diesel-straight-leg-jeans-blue-zir01sfob-001.html\n",
      "https://www.zalando.nl/boss-chino-green-zir01sb62-001.html\n",
      "https://www.zalando.nl/nudie-jeans-slim-fit-jeans-blue-zir01sejc-001.html\n",
      "https://www.zalando.nl/g-star-straight-leg-jeans-blue-zir01skiw-001.html\n",
      "https://www.zalando.nl/levis-straight-leg-jeans-blue-zir01sb84-001.html\n",
      "https://www.zalando.nl/scotch-and-soda-shorts-brown-zir01skvj-001.html\n",
      "https://www.zalando.nl/polo-ralph-lauren-broek-blue-zir01sjb9-001.html\n",
      "https://www.zalando.nl/bonita-broek-black-zir01sjaj-001.html\n",
      "https://www.zalando.nl/hilfiger-denim-straight-leg-jeans-blue-zir01s711-001.html\n",
      "https://www.zalando.nl/replay-straight-leg-jeans-blue-zir01scxc-001.html\n",
      "https://www.zalando.nl/guru-jeans-tapered-fit-blue-zir01sf55-001.html\n",
      "https://www.zalando.nl/brax-broek-yellow-zir01sbg8-001.html\n",
      "https://www.zalando.nl/aigner-broek-beige-zir01t56b-001.html\n",
      "https://www.zalando.nl/meyer-pantalon-black-zir01sdx4-001.html\n",
      "https://www.zalando.nl/tiger-of-sweden-chino-grey-zir01sk2v-001.html\n"
     ]
    },
    {
     "data": {
      "text/plain": [
       "170"
      ]
     },
     "execution_count": 255,
     "metadata": {},
     "output_type": "execute_result"
    }
   ],
   "source": [
    "product_urls = create_product_urls(page_urls)\n",
    "len(product_urls)"
   ]
  },
  {
   "cell_type": "code",
   "execution_count": 256,
   "id": "d3ce615f",
   "metadata": {},
   "outputs": [
    {
     "name": "stdout",
     "output_type": "stream",
     "text": [
      "current height: 8692\n",
      "last height: 8692\n",
      "current height: 8692\n",
      "The number scrolls required to scrape all products is: 1\n"
     ]
    }
   ],
   "source": [
    "scroll_counter = 0 \n",
    "last_height = 0\n",
    "driver.get(\"https://www.zalando.nl/pre-owned-mode-heren/\")\n",
    "\n",
    "# running this cell may take a minute or two\n",
    "while True:    \n",
    "    current_height = driver.execute_script('return document.body.scrollHeight')\n",
    "    print(\"current height: \" + str(current_height))\n",
    "\n",
    "    if current_height == last_height:\n",
    "        break\n",
    "\n",
    "    driver.execute_script(\"window.scrollTo(0, document.body.scrollHeight);\")\n",
    "    scroll_counter += 1\n",
    "    last_height = current_height\n",
    "    print(\"last height: \" + str(last_height))\n",
    "    sleep(1)\n",
    "    \n",
    "print(f\"The number scrolls required to scrape all products is: {scroll_counter}\")"
   ]
  },
  {
   "cell_type": "code",
   "execution_count": null,
   "id": "260e1e0f",
   "metadata": {},
   "outputs": [],
   "source": []
  },
  {
   "cell_type": "code",
   "execution_count": 257,
   "id": "f24b1ded",
   "metadata": {},
   "outputs": [
    {
     "name": "stdout",
     "output_type": "stream",
     "text": [
      "done\n"
     ]
    }
   ],
   "source": [
    "# scraping information from product pages\n",
    "def get_product_pages(products):\n",
    "    product_pages = []\n",
    "    \n",
    "    for url in product_urls: \n",
    "        res = requests.get(url, headers = user_agent)\n",
    "        soup = BeautifulSoup(res.text, \"html.parser\")\n",
    "        attributes = soup.find_all(class_=\"DT5BTM VHXqc_ rceRmQ _4NtqZU mIlIve\")\n",
    "        delivery = soup.find(class_=\"PBR5VH _0xLoFW EJ4MLB\")\n",
    "        \n",
    "        for attribute in attributes:    \n",
    "            product = attribute.find(\"h3\", class_=\"mt1kvu ka2E9k uMhVZi FxZV-M SZKKsK pVrzNP _5Yd-hZ\").text\n",
    "            category = attribute.find(\"span\", class_=\"EKabf7 R_QwOV\").text\n",
    "            price = attribute.find(\"span\", class_=\"uqkIZw ka2E9k uMhVZi FxZV-M RYghuO pVrzNP\")\n",
    "            size = attribute.find(\"span\", class_=\"_7Cm1F9 ka2E9k uMhVZi dgII7d RYghuO pVrzNP\").text\n",
    "            delivery_time = delivery.find(\"span\", class_=\"u-6V88 ka2E9k uMhVZi dgII7d RYghuO pVrzNP\").text\n",
    "            delivery_time = delivery_time.replace(\"werkdagen\", \"\")\n",
    "            delivery_time = delivery_time.replace(\" \", \"\")\n",
    "            product_pages.append({\"url\": url,\n",
    "                                 \"brand\": product,\n",
    "                                 \"category\": category,\n",
    "                                 \"price\": price,\n",
    "                                 \"size\": size,\n",
    "                                 \"delivery time\": delivery_time})\n",
    "   \n",
    "    return product_pages\n",
    "print(\"done\")"
   ]
  },
  {
   "cell_type": "code",
   "execution_count": 258,
   "id": "c0dce5b1",
   "metadata": {},
   "outputs": [
    {
     "ename": "AttributeError",
     "evalue": "'NoneType' object has no attribute 'find'",
     "output_type": "error",
     "traceback": [
      "\u001b[0;31m---------------------------------------------------------------------------\u001b[0m",
      "\u001b[0;31mAttributeError\u001b[0m                            Traceback (most recent call last)",
      "\u001b[0;32m/var/folders/4y/6vwkjssx3738mwbgnvtcbfvm0000gn/T/ipykernel_32563/3483559171.py\u001b[0m in \u001b[0;36m<module>\u001b[0;34m\u001b[0m\n\u001b[0;32m----> 1\u001b[0;31m \u001b[0mproduct_attributes\u001b[0m \u001b[0;34m=\u001b[0m \u001b[0mget_product_pages\u001b[0m\u001b[0;34m(\u001b[0m\u001b[0mproduct_urls\u001b[0m\u001b[0;34m)\u001b[0m\u001b[0;34m\u001b[0m\u001b[0;34m\u001b[0m\u001b[0m\n\u001b[0m\u001b[1;32m      2\u001b[0m \u001b[0mproduct_attributes\u001b[0m\u001b[0;34m\u001b[0m\u001b[0;34m\u001b[0m\u001b[0m\n",
      "\u001b[0;32m/var/folders/4y/6vwkjssx3738mwbgnvtcbfvm0000gn/T/ipykernel_32563/1929174994.py\u001b[0m in \u001b[0;36mget_product_pages\u001b[0;34m(products)\u001b[0m\n\u001b[1;32m     14\u001b[0m             \u001b[0mprice\u001b[0m \u001b[0;34m=\u001b[0m \u001b[0mattribute\u001b[0m\u001b[0;34m.\u001b[0m\u001b[0mfind\u001b[0m\u001b[0;34m(\u001b[0m\u001b[0;34m\"span\"\u001b[0m\u001b[0;34m,\u001b[0m \u001b[0mclass_\u001b[0m\u001b[0;34m=\u001b[0m\u001b[0;34m\"uqkIZw ka2E9k uMhVZi FxZV-M RYghuO pVrzNP\"\u001b[0m\u001b[0;34m)\u001b[0m\u001b[0;34m\u001b[0m\u001b[0;34m\u001b[0m\u001b[0m\n\u001b[1;32m     15\u001b[0m             \u001b[0msize\u001b[0m \u001b[0;34m=\u001b[0m \u001b[0mattribute\u001b[0m\u001b[0;34m.\u001b[0m\u001b[0mfind\u001b[0m\u001b[0;34m(\u001b[0m\u001b[0;34m\"span\"\u001b[0m\u001b[0;34m,\u001b[0m \u001b[0mclass_\u001b[0m\u001b[0;34m=\u001b[0m\u001b[0;34m\"_7Cm1F9 ka2E9k uMhVZi dgII7d RYghuO pVrzNP\"\u001b[0m\u001b[0;34m)\u001b[0m\u001b[0;34m.\u001b[0m\u001b[0mtext\u001b[0m\u001b[0;34m\u001b[0m\u001b[0;34m\u001b[0m\u001b[0m\n\u001b[0;32m---> 16\u001b[0;31m             \u001b[0mdelivery_time\u001b[0m \u001b[0;34m=\u001b[0m \u001b[0mdelivery\u001b[0m\u001b[0;34m.\u001b[0m\u001b[0mfind\u001b[0m\u001b[0;34m(\u001b[0m\u001b[0;34m\"span\"\u001b[0m\u001b[0;34m,\u001b[0m \u001b[0mclass_\u001b[0m\u001b[0;34m=\u001b[0m\u001b[0;34m\"u-6V88 ka2E9k uMhVZi dgII7d RYghuO pVrzNP\"\u001b[0m\u001b[0;34m)\u001b[0m\u001b[0;34m.\u001b[0m\u001b[0mtext\u001b[0m\u001b[0;34m\u001b[0m\u001b[0;34m\u001b[0m\u001b[0m\n\u001b[0m\u001b[1;32m     17\u001b[0m             \u001b[0mdelivery_time\u001b[0m \u001b[0;34m=\u001b[0m \u001b[0mdelivery_time\u001b[0m\u001b[0;34m.\u001b[0m\u001b[0mreplace\u001b[0m\u001b[0;34m(\u001b[0m\u001b[0;34m\"werkdagen\"\u001b[0m\u001b[0;34m,\u001b[0m \u001b[0;34m\"\"\u001b[0m\u001b[0;34m)\u001b[0m\u001b[0;34m\u001b[0m\u001b[0;34m\u001b[0m\u001b[0m\n\u001b[1;32m     18\u001b[0m             \u001b[0mdelivery_time\u001b[0m \u001b[0;34m=\u001b[0m \u001b[0mdelivery_time\u001b[0m\u001b[0;34m.\u001b[0m\u001b[0mreplace\u001b[0m\u001b[0;34m(\u001b[0m\u001b[0;34m\" \"\u001b[0m\u001b[0;34m,\u001b[0m \u001b[0;34m\"\"\u001b[0m\u001b[0;34m)\u001b[0m\u001b[0;34m\u001b[0m\u001b[0;34m\u001b[0m\u001b[0m\n",
      "\u001b[0;31mAttributeError\u001b[0m: 'NoneType' object has no attribute 'find'"
     ]
    }
   ],
   "source": [
    "product_attributes = get_product_pages(product_urls)\n",
    "product_attributes"
   ]
  },
  {
   "cell_type": "code",
   "execution_count": null,
   "id": "6a9a939e",
   "metadata": {},
   "outputs": [],
   "source": []
  },
  {
   "cell_type": "code",
   "execution_count": 87,
   "id": "bd324f21",
   "metadata": {},
   "outputs": [
    {
     "name": "stdout",
     "output_type": "stream",
     "text": [
      "2022-03-15 19:42:40.492786\n"
     ]
    }
   ],
   "source": [
    "from datetime import datetime\n",
    "\n",
    "now = datetime.now()\n",
    "print(now)"
   ]
  },
  {
   "cell_type": "code",
   "execution_count": 88,
   "id": "9a0b4ead",
   "metadata": {},
   "outputs": [
    {
     "name": "stdout",
     "output_type": "stream",
     "text": [
      "done!\n"
     ]
    }
   ],
   "source": [
    "import csv \n",
    "\n",
    "with open(\"product_description_pre_owned.csv\", \"w\", encoding = 'utf-8', newline='') as csv_file: \n",
    "    writer = csv.writer(csv_file, delimiter = \";\")\n",
    "    writer.writerow([\"url\", \"brand\", \"category\", \"price\", \"size\", \"delivery time\", \"now\"])\n",
    "    now = datetime.now()\n",
    "    for product in product_attributes: \n",
    "        writer.writerow([product['url'], product['brand'], product['category'], product['price'], product['size'], product['delivery time'], now])\n",
    "print('done!')"
   ]
  },
  {
   "cell_type": "code",
   "execution_count": null,
   "id": "a9cefec7",
   "metadata": {},
   "outputs": [],
   "source": []
  }
 ],
 "metadata": {
  "kernelspec": {
   "display_name": "Python 3 (ipykernel)",
   "language": "python",
   "name": "python3"
  },
  "language_info": {
   "codemirror_mode": {
    "name": "ipython",
    "version": 3
   },
   "file_extension": ".py",
   "mimetype": "text/x-python",
   "name": "python",
   "nbconvert_exporter": "python",
   "pygments_lexer": "ipython3",
   "version": "3.9.7"
  }
 },
 "nbformat": 4,
 "nbformat_minor": 5
}
