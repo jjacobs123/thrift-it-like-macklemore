{
 "cells": [
  {
   "cell_type": "code",
   "execution_count": null,
   "id": "c4edfcf6",
   "metadata": {},
   "outputs": [],
   "source": [
    "## GOOD TO KNOW \n",
    "\n",
    "# website = https://zalando.nl/pre-owned-mode-heren/index.html\n",
    "# article class = _0mW-4D _0xLoFW JT3_zV mo6ZnF _78xIQ- U4aOaA\n",
    "# figure class = heWLCX\n",
    "# tag product brand names = <span> \n",
    "# inspecting a product gives us: <a class=\"_LM JT3_zV CKDt_l CKDt_l LyRfpJ\"href=\"https://www.zalando.nl/g-star-overhemd-blue-zir01hbly-001.html\" rel=\"\">\n"
   ]
  },
  {
   "cell_type": "code",
   "execution_count": null,
   "id": "7ed8b83a",
   "metadata": {},
   "outputs": [],
   "source": []
  },
  {
   "cell_type": "code",
   "execution_count": null,
   "id": "8da66534",
   "metadata": {},
   "outputs": [],
   "source": [
    "\n"
   ]
  },
  {
   "cell_type": "code",
   "execution_count": 2,
   "id": "2feadc35",
   "metadata": {},
   "outputs": [],
   "source": [
    "import requests\n",
    "from bs4 import BeautifulSoup\n",
    "\n",
    "#debug = {'verbose': sys.stderr}\n",
    "user_agent = {'User-agent': 'Mozilla/5.0 (Windows NT 10.0; Win64; x64) AppleWebKit/537.36 (KHTML, like Gecko) Chrome/98.0.4758.102 Safari/537.36 Edg/98.0.1108.62'}  \n",
    "#response  = requests.get(url, headers = user_agent, config=debug)\n",
    "\n",
    "# make a get request to the zalando pre-owned overview page\n",
    "url = 'https://www.zalando.nl/pre-owned-mode-heren/index.html'\n",
    "res = requests.get(url, headers = user_agent)\n",
    "f=open('website.html', 'w',encoding='utf-8')\n",
    "f.write(res.text)\n",
    "f.close()\n",
    "\n",
    "soup = BeautifulSoup(res.text, \"html.parser\") \n"
   ]
  },
  {
   "cell_type": "code",
<<<<<<< HEAD
   "execution_count": 2,
=======
   "execution_count": 3,
   "id": "d4590d42",
>>>>>>> c7728784acddbbe836c8e67bb2d5789614e4d23f
   "metadata": {},
   "outputs": [
    {
     "name": "stdout",
     "output_type": "stream",
     "text": [
      "https://www.zalando.nl/jack-and-jones-hoodie-red-zir01n91x-001.html\n",
<<<<<<< HEAD
      "https://www.zalando.nl/tommy-hilfiger-broek-white-zir00vazh-001.html\n",
      "https://www.zalando.nl/next-overhemd-blue-zir01oz3j-001.html\n",
      "https://www.zalando.nl/us-polo-assn-overhemd-blue-zir017w7s-001.html\n",
      "https://www.zalando.nl/gaastra-overhemd-blue-zir01q1kd-001.html\n",
      "https://www.zalando.nl/next-overhemd-blue-zir01r6wz-001.html\n",
      "https://www.zalando.nl/seidensticker-overhemd-beige-zir01oywf-001.html\n",
      "https://www.zalando.nl/ted-baker-overhemd-blue-zir01p3xh-001.html\n",
      "https://www.zalando.nl/joop-chino-beige-zir00pcbi-001.html\n",
      "https://www.zalando.nl/cecil-slim-fit-jeans-grey-zir01r3y5-001.html\n",
      "https://www.zalando.nl/lindbergh-broek-grey-zir00q7eo-001.html\n",
      "https://www.zalando.nl/tommy-hilfiger-broek-blue-zir01r4mv-001.html\n",
      "https://www.zalando.nl/g-star-slim-fit-jeans-blue-zir00nxn3-001.html\n",
      "https://www.zalando.nl/brax-broek-orange-zir00nxmc-001.html\n",
      "https://www.zalando.nl/tom-tailor-straight-leg-jeans-black-zir01r6ic-001.html\n",
      "https://www.zalando.nl/gap-chino-brown-zir00pc86-001.html\n",
      "https://www.zalando.nl/moods-of-norway-slim-fit-jeans-black-zir00orqb-001.html\n",
      "https://www.zalando.nl/brax-broek-grey-zir00rfa3-001.html\n",
      "https://www.zalando.nl/pullandbear-slim-fit-jeans-grey-zir01i068-001.html\n",
      "https://www.zalando.nl/tom-tailor-denim-broek-grey-zir00u5r8-001.html\n",
      "https://www.zalando.nl/van-laack-broek-black-zir00q7fh-001.html\n",
      "https://www.zalando.nl/meyer-broek-beige-zir01r3o7-001.html\n",
      "https://www.zalando.nl/selected-homme-chino-grey-zir00rfe6-001.html\n",
      "https://www.zalando.nl/pioneer-authentic-jeans-straight-leg-jeans-grey-zir0161qm-001.html\n",
      "https://www.zalando.nl/camel-active-slim-fit-jeans-blue-zir01r3yz-001.html\n",
      "https://www.zalando.nl/asos-slim-fit-jeans-blue-zir00u5up-001.html\n",
      "https://www.zalando.nl/rosner-broek-beige-zir01r4f2-001.html\n",
      "https://www.zalando.nl/digel-broek-grey-zir00rfe1-001.html\n",
      "https://www.zalando.nl/cheap-monday-slim-fit-jeans-blue-zir00u30z-001.html\n",
      "https://www.zalando.nl/murphy-and-nye-straight-leg-jeans-beige-zir015t24-001.html\n",
      "https://www.zalando.nl/jack-and-jones-slim-fit-jeans-black-zir00u6cd-001.html\n",
      "https://www.zalando.nl/gant-broek-beige-zir00u015-001.html\n"
=======
      "https://www.zalando.nl/next-zakelijk-overhemd-blue-zir01p3ic-001.html\n",
      "https://www.zalando.nl/next-zakelijk-overhemd-red-zir01p33f-001.html\n",
      "https://www.zalando.nl/g-star-overhemd-green-zir01q0sv-001.html\n",
      "https://www.zalando.nl/next-overhemd-multicolored-zir01ifx1-001.html\n",
      "https://www.zalando.nl/marks-and-spencer-overhemd-purple-zir01p3kk-001.html\n",
      "https://www.zalando.nl/tiger-of-sweden-overhemd-black-zir017vtk-001.html\n",
      "https://www.zalando.nl/burton-zakelijk-overhemd-blue-zir01p0tb-001.html\n",
      "https://www.zalando.nl/next-overhemd-brown-zir01pzem-001.html\n",
      "https://www.zalando.nl/cadeaubonnen\n",
      "https://www.zalando.nl/marks-and-spencer-london-overhemd-brown-zir01f5wc-001.html\n",
      "https://www.zalando.nl/next-zakelijk-overhemd-blue-zir01p3n5-001.html\n",
      "https://www.zalando.nl/ted-baker-zakelijk-overhemd-blue-zir01p319-001.html\n",
      "https://www.zalando.nl/marks-and-spencer-zakelijk-overhemd-pink-zir01p34v-001.html\n",
      "https://www.zalando.nl/marks-and-spencer-overhemd-blue-zir01qejh-001.html\n",
      "https://www.zalando.nl/selected-homme-zakelijk-overhemd-black-zir01p2b3-001.html\n",
      "https://www.zalando.nl/jack-and-jones-overhemd-multi-colored-zir01q0a5-001.html\n",
      "https://www.zalando.nl/marks-and-spencer-overhemd-green-zir01oz11-001.html\n",
      "https://www.zalando.nl/nn07-overhemd-white-zir01q1g8-001.html\n",
      "https://www.zalando.nl/tiger-of-sweden-overhemd-brown-zir01oyws-001.html\n",
      "https://www.zalando.nl/ps-paul-smith-overhemd-light-green-zir01oyv9-001.html\n",
      "https://www.zalando.nl/knowledgecotton-apparel-overhemd-orange-zir017x16-001.html\n",
      "https://www.zalando.nl/quiksilver-overhemd-red-zir01gttc-001.html\n",
      "https://www.zalando.nl/ted-baker-zakelijk-overhemd-pink-zir01p39k-001.html\n",
      "https://www.zalando.nl/eterna-overhemd-brown-zir01q0ex-001.html\n",
      "https://www.zalando.nl/brax-overhemd-blue-zir01f5xq-001.html\n",
      "https://www.zalando.nl/boss-zakelijk-overhemd-light-red-zir01q6jo-001.html\n",
      "https://www.zalando.nl/basefield-overhemd-blue-zir01pw53-001.html\n",
      "https://www.zalando.nl/seidensticker-overhemd-green-zir017v3x-001.html\n"
>>>>>>> c7728784acddbbe836c8e67bb2d5789614e4d23f
     ]
    }
   ],
   "source": [
    "# return the href attribute in the <div> tag nested to get the products on the first page\n",
    "for link in soup.find_all(class_=\"_LM JT3_zV CKDt_l CKDt_l LyRfpJ\"): \n",
    "    print(link.attrs[\"href\"])"
   ]
  },
  {
   "cell_type": "code",
<<<<<<< HEAD
   "execution_count": 3,
=======
   "execution_count": 4,
   "id": "5119c771",
>>>>>>> c7728784acddbbe836c8e67bb2d5789614e4d23f
   "metadata": {},
   "outputs": [],
   "source": [
    "# list of all brands on the overview page\n",
    "brands = soup.find_all(class_=\"_0mW-4D _0xLoFW JT3_zV mo6ZnF _78xIQ- U4aOaA\")\n",
    "brands = []\n",
    "\n",
    "for brand in brands: \n",
    "    brand = brand.find(\"div\").attrs[\"_0mW-4D _0xLoFW JT3_zV mo6ZnF _78xIQ- U4aOaA\"]\n",
    "    brands.append(brand)"
   ]
  },
  {
   "cell_type": "code",
   "execution_count": 5,
   "id": "daae9f07",
   "metadata": {},
   "outputs": [
    {
     "data": {
      "text/plain": [
       "[]"
      ]
     },
     "execution_count": 5,
     "metadata": {},
     "output_type": "execute_result"
    }
   ],
   "source": [
    "brands"
   ]
  },
  {
   "cell_type": "code",
<<<<<<< HEAD
   "execution_count": 4,
=======
   "execution_count": 6,
   "id": "57be5433",
>>>>>>> c7728784acddbbe836c8e67bb2d5789614e4d23f
   "metadata": {},
   "outputs": [
    {
     "name": "stdout",
     "output_type": "stream",
     "text": [
      "https://www.zalando.nl/pre-owned-mode-heren/?p=1\n"
     ]
    }
   ],
   "source": [
    "base_url = \"https://www.zalando.nl/pre-owned-mode-heren/\"\n",
    "counter = 1\n",
    "full_url = base_url + \"?p=\" + str(counter)\n",
    "print(full_url)\n",
    "\n"
   ]
  },
  {
   "cell_type": "code",
   "execution_count": 25,
   "id": "75d3dcf8",
   "metadata": {},
   "outputs": [],
   "source": []
  },
  {
   "cell_type": "code",
   "execution_count": null,
   "id": "fb5e03dd",
   "metadata": {},
   "outputs": [],
   "source": []
  },
  {
   "cell_type": "code",
<<<<<<< HEAD
   "execution_count": 6,
=======
   "execution_count": 7,
   "id": "a62464cf",
>>>>>>> c7728784acddbbe836c8e67bb2d5789614e4d23f
   "metadata": {},
   "outputs": [],
   "source": [
    "def generate_page_urls(base_url, num_pages):\n",
    "    '''generate a list of full page urls from a base url and counter that has takes on the values between 1 and num_pages'''\n",
    "    page_urls = []\n",
    "    \n",
    "    for counter in range(1, num_pages + 1):\n",
    "        full_url = base_url + \"?p=\" + str(counter)\n",
    "        page_urls.append(full_url)\n",
    "        \n",
    "    return page_urls"
   ]
  },
  {
   "cell_type": "code",
<<<<<<< HEAD
   "execution_count": 7,
=======
   "execution_count": 10,
   "id": "2a0d1379",
>>>>>>> c7728784acddbbe836c8e67bb2d5789614e4d23f
   "metadata": {},
   "outputs": [
    {
     "data": {
      "text/plain": [
       "['https://www.zalando.nl/pre-owned-mode-heren/?p=1',\n",
       " 'https://www.zalando.nl/pre-owned-mode-heren/?p=2',\n",
       " 'https://www.zalando.nl/pre-owned-mode-heren/?p=3',\n",
       " 'https://www.zalando.nl/pre-owned-mode-heren/?p=4',\n",
       " 'https://www.zalando.nl/pre-owned-mode-heren/?p=5']"
      ]
     },
     "execution_count": 7,
     "metadata": {},
     "output_type": "execute_result"
    }
   ],
   "source": [
    "generate_page_urls(\"https://www.zalando.nl/pre-owned-mode-heren/\", 5)\n"
   ]
  },
  {
   "cell_type": "code",
<<<<<<< HEAD
   "execution_count": 10,
   "metadata": {},
   "outputs": [
    {
     "name": "stdout",
     "output_type": "stream",
     "text": [
      "[{'url': 'https://www.zalando.nl/jack-and-jones-hoodie-red-zir01n91x-001.html', 'brand': 'Jack & Jones'}, {'url': 'https://www.zalando.nl/tommy-hilfiger-broek-white-zir00vazh-001.html', 'brand': 'Tommy Hilfiger'}, {'url': 'https://www.zalando.nl/next-overhemd-blue-zir01oz3j-001.html', 'brand': 'Next'}, {'url': 'https://www.zalando.nl/us-polo-assn-overhemd-blue-zir017w7s-001.html', 'brand': 'U.S. Polo Assn.'}, {'url': 'https://www.zalando.nl/gaastra-overhemd-blue-zir01q1kd-001.html', 'brand': 'Gaastra'}, {'url': 'https://www.zalando.nl/next-overhemd-blue-zir01r6wz-001.html', 'brand': 'Next'}, {'url': 'https://www.zalando.nl/seidensticker-overhemd-beige-zir01oywf-001.html', 'brand': 'Seidensticker'}, {'url': 'https://www.zalando.nl/ted-baker-overhemd-blue-zir01p3xh-001.html', 'brand': 'Ted Baker'}, {'url': 'https://www.zalando.nl/joop-chino-beige-zir00pcbi-001.html', 'brand': 'JOOP!'}, {'url': 'https://www.zalando.nl/cecil-slim-fit-jeans-grey-zir01r3y5-001.html', 'brand': 'Cecil'}, {'url': 'https://www.zalando.nl/lindbergh-broek-grey-zir00q7eo-001.html', 'brand': 'Lindbergh'}, {'url': 'https://www.zalando.nl/tommy-hilfiger-broek-blue-zir01r4mv-001.html', 'brand': 'Tommy Hilfiger'}, {'url': 'https://www.zalando.nl/g-star-slim-fit-jeans-blue-zir00nxn3-001.html', 'brand': 'G-Star'}, {'url': 'https://www.zalando.nl/brax-broek-orange-zir00nxmc-001.html', 'brand': 'BRAX'}, {'url': 'https://www.zalando.nl/tom-tailor-straight-leg-jeans-black-zir01r6ic-001.html', 'brand': 'TOM TAILOR'}, {'url': 'https://www.zalando.nl/gap-chino-brown-zir00pc86-001.html', 'brand': 'GAP'}, {'url': 'https://www.zalando.nl/moods-of-norway-slim-fit-jeans-black-zir00orqb-001.html', 'brand': 'Moods of Norway'}, {'url': 'https://www.zalando.nl/brax-broek-grey-zir00rfa3-001.html', 'brand': 'BRAX'}, {'url': 'https://www.zalando.nl/pullandbear-slim-fit-jeans-grey-zir01i068-001.html', 'brand': 'PULL&BEAR'}, {'url': 'https://www.zalando.nl/tom-tailor-denim-broek-grey-zir00u5r8-001.html', 'brand': 'TOM TAILOR DENIM'}, {'url': 'https://www.zalando.nl/van-laack-broek-black-zir00q7fh-001.html', 'brand': 'van Laack'}, {'url': 'https://www.zalando.nl/meyer-broek-beige-zir01r3o7-001.html', 'brand': 'Meyer'}, {'url': 'https://www.zalando.nl/selected-homme-chino-grey-zir00rfe6-001.html', 'brand': 'Selected Homme'}, {'url': 'https://www.zalando.nl/pioneer-authentic-jeans-straight-leg-jeans-grey-zir0161qm-001.html', 'brand': 'Pioneer Authentic Jeans'}, {'url': 'https://www.zalando.nl/camel-active-slim-fit-jeans-blue-zir01r3yz-001.html', 'brand': 'camel active'}, {'url': 'https://www.zalando.nl/asos-slim-fit-jeans-blue-zir00u5up-001.html', 'brand': 'ASOS'}, {'url': 'https://www.zalando.nl/rosner-broek-beige-zir01r4f2-001.html', 'brand': 'Rosner'}, {'url': 'https://www.zalando.nl/digel-broek-grey-zir00rfe1-001.html', 'brand': 'Digel'}, {'url': 'https://www.zalando.nl/cheap-monday-slim-fit-jeans-blue-zir00u30z-001.html', 'brand': 'Cheap Monday'}, {'url': 'https://www.zalando.nl/murphy-and-nye-straight-leg-jeans-beige-zir015t24-001.html', 'brand': 'Murphy & Nye'}, {'url': 'https://www.zalando.nl/jack-and-jones-slim-fit-jeans-black-zir00u6cd-001.html', 'brand': 'Jack & Jones'}, {'url': 'https://www.zalando.nl/gant-broek-beige-zir00u015-001.html', 'brand': 'GANT'}]\n"
     ]
    }
   ],
   "source": [
    "# list of all books on the overview page\n",
    "books = soup.find_all(class_=\"_0mW-4D _0xLoFW JT3_zV mo6ZnF _78xIQ- U4aOaA\")\n",
    "book_urls = []\n",
    "\n",
    "for book in books: \n",
    "    book_url = book.find(\"a\").attrs[\"href\"]\n",
    "    brand_instock = book.find(\"span\", class_=\"u-6V88 ka2E9k uMhVZi FxZV-M SZKKsK pVrzNP ZkIJC- r9BRio qXofat EKabf7\").text # only this changed!\n",
    "    book_urls.append({\"url\": book_url,\n",
    "                     \"brand\": brand_instock})\n",
    "    \n",
    "# print the first five urls\n",
    "print(book_urls[0:50])"
   ]
  },
  {
   "cell_type": "code",
   "execution_count": null,
   "metadata": {},
   "outputs": [],
   "source": [
    "# list of all books on the overview page\n",
    "books = soup.find_all(class_=\"_0mW-4D _0xLoFW JT3_zV mo6ZnF _78xIQ- U4aOaA\")\n",
    "book_urls = []\n",
    "\n",
    "for book in books: \n",
    "    brand_instock = book.find(\"span\", class_=\"u-6V88 ka2E9k uMhVZi FxZV-M SZKKsK pVrzNP ZkIJC- r9BRio qXofat EKabf7\").text # only this changed!\n",
    "    book_urls.append(brand_instock)\n",
    "    \n",
    "# print the first five urls\n",
    "print(book_urls[0:60])"
   ]
  },
  {
   "cell_type": "code",
   "execution_count": 16,
=======
   "execution_count": 8,
   "id": "84708333",
>>>>>>> c7728784acddbbe836c8e67bb2d5789614e4d23f
   "metadata": {},
   "outputs": [],
   "source": [
    "def extract_brand_urls(page_urls):\n",
    "    '''........'''\n",
    "    brand_list = []\n",
    "    \n",
    "    # collect all books on page_url\n",
    "    for page_url in page_urls: \n",
    "        res = requests.get(page_url)\n",
    "        soup = BeautifulSoup(res.text, \"html.parser\")\n",
    "        brands = soup.find_all(class_=\"_0mW-4D _0xLoFW JT3_zV mo6ZnF _78xIQ- U4aOaA\")\n",
    "        \n",
    "        for brand in brands: \n",
    "            brand_url = \"https://www.zalando.nl/pre-owned-mode-heren/\" + brand.find(\"a\").attrs[\"href\"]\n",
    "            brand_name = brand.find(\"span\", class_=\"u-6V88 ka2E9k uMhVZi FxZV-M SZKKsK pVrzNP ZkIJC- r9BRio qXofat EKabf7\").text # only this changed!\n",
    "            brand_list.append({\"url\": brand_url,\n",
    "                             \"brand\": brand_name}) # and this line!\n",
    "            \n",
    "            sleep(1)\n",
    "                        \n",
    "    return brand_list"
   ]
  },
  {
   "cell_type": "code",
   "execution_count": null,
   "id": "e5837616",
   "metadata": {},
   "outputs": [],
   "source": [
    "# this cell references functions in other cells, therefore make sure you have loaded all cells above first! (Cell > Run All Above)\n",
    "base_url = \"https://www.zalando.nl/pre-owned-mode-heren/\"\n",
    "page_urls = generate_page_urls(base_url, 1) # to save time and resources we only scrape the first 2 pages\n",
    "brand_list = extract_brand_urls(page_urls)"
   ]
  },
  {
   "cell_type": "code",
   "execution_count": null,
   "id": "4ca0013d",
   "metadata": {},
   "outputs": [],
   "source": []
  },
  {
   "cell_type": "code",
   "execution_count": null,
   "id": "0920fc65",
   "metadata": {},
   "outputs": [],
   "source": [
    "book_list[0:5]"
   ]
  },
  {
   "cell_type": "code",
   "execution_count": null,
   "id": "b1779ce6",
   "metadata": {},
   "outputs": [],
   "source": [
    "## first try part Sanne:\n",
    "# extract all pages of Zalando Pre-owned heren \n",
    "\n",
    "def extract_all_products(page_url):\n",
    "    products = []\n",
    "    while page_url:\n",
    "        print(page_url)\n",
    "        for product in extract_product_urls([page_url]):\n",
    "            products.append(product)\n",
    "        \n",
    "        if check_next_page(page_url) != None: \n",
    "            page_url = \"https://www.zalando.nl/pre-owned-mode-heren/\" + check_next_page(page_url)\n",
    "        else: \n",
    "            break\n",
    "        \n",
    "        # if \"page-4\" in page_url: break # (activate this if we don't want to run the entire loop)\n",
    "    return products"
   ]
  },
  {
   "cell_type": "code",
   "execution_count": null,
   "id": "bccea20a",
   "metadata": {},
   "outputs": [],
   "source": [
    "product_list = extract_all_products(\"https://www.zalando.nl/pre-owned-mode-heren/\")"
   ]
  },
  {
   "cell_type": "code",
   "execution_count": null,
   "id": "8c2101aa",
   "metadata": {},
   "outputs": [],
   "source": [
    "product_list[]"
   ]
  },
  {
   "cell_type": "code",
   "execution_count": null,
   "id": "efbdb556",
   "metadata": {},
   "outputs": [],
   "source": [
    "# total number of products\n",
    "len(products)\n",
    "\n",
    "# check total number of products for a certain brand (e.g. Armani)\n",
    "len([product for product in product_list if \"armani\" in product[\"title\"].lower()])"
   ]
  }
 ],
 "metadata": {
  "kernelspec": {
   "display_name": "Python 3 (ipykernel)",
   "language": "python",
   "name": "python3"
  },
  "language_info": {
   "codemirror_mode": {
    "name": "ipython",
    "version": 3
   },
   "file_extension": ".py",
   "mimetype": "text/x-python",
   "name": "python",
   "nbconvert_exporter": "python",
   "pygments_lexer": "ipython3",
   "version": "3.9.7"
  }
 },
 "nbformat": 4,
 "nbformat_minor": 5
}
