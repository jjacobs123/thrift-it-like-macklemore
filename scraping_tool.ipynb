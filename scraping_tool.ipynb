{
 "cells": [
  {
   "cell_type": "code",
   "execution_count": null,
   "metadata": {},
   "outputs": [],
   "source": []
  },
  {
   "cell_type": "code",
   "execution_count": null,
   "metadata": {},
   "outputs": [],
   "source": [
    "## GOOD TO KNOW \n",
    "\n",
    "# website = https://zalando.nl/pre-owned-mode-heren/index.html\n",
    "# article class = _0mW-4D _0xLoFW JT3_zV mo6ZnF _78xIQ- U4aOaA\n",
    "# figure class = heWLCX\n",
    "# tag product brand names = <span> \n",
    "# inspecting a product gives us: <a class=\"_LM JT3_zV CKDt_l CKDt_l LyRfpJ\"href=\"https://www.zalando.nl/g-star-overhemd-blue-zir01hbly-001.html\" rel=\"\">\n"
   ]
  },
  {
   "cell_type": "code",
   "execution_count": 1,
   "metadata": {},
   "outputs": [],
   "source": [
    "import requests\n",
    "from bs4 import BeautifulSoup\n",
    "\n",
    "#debug = {'verbose': sys.stderr}\n",
    "user_agent = {'User-agent': 'Mozilla/5.0 (Windows NT 10.0; Win64; x64) AppleWebKit/537.36 (KHTML, like Gecko) Chrome/98.0.4758.102 Safari/537.36 Edg/98.0.1108.62'}  \n",
    "#response  = requests.get(url, headers = user_agent, config=debug)\n",
    "\n",
    "# make a get request to the zalando pre-owned overview page\n",
    "url = 'https://www.zalando.nl/pre-owned-mode-heren/index.html'\n",
    "res = requests.get(url, headers = user_agent)\n",
    "f=open('website.html', 'w',encoding='utf-8')\n",
    "f.write(res.text)\n",
    "f.close()\n",
    "\n",
    "soup = BeautifulSoup(res.text, \"html.parser\") \n"
   ]
  },
  {
   "cell_type": "code",
   "execution_count": 3,
   "metadata": {},
   "outputs": [
    {
     "name": "stdout",
     "output_type": "stream",
     "text": [
      "https://www.zalando.nl/nike-sportswear-t-shirt-print-pink-zir01obhv-001.html\n",
      "https://www.zalando.nl/ea7-emporio-armani-longsleeve-black-zir01p19k-001.html\n",
      "https://www.zalando.nl/jlindeberg-longsleeve-red-zir01ekpk-001.html\n",
      "https://www.zalando.nl/scotch-and-soda-poloshirt-purple-zir00uvw6-001.html\n",
      "https://www.zalando.nl/scotch-and-soda-overhemd-blue-zir0196hu-001.html\n",
      "https://www.zalando.nl/levis-t-shirt-print-beige-zir00wsgb-001.html\n",
      "https://www.zalando.nl/ellesse-t-shirt-print-blue-zir0161gj-001.html\n",
      "https://www.zalando.nl/timberland-t-shirt-print-yellow-zir00uvz3-001.html\n",
      "https://www.zalando.nl/polo-ralph-lauren-overhemd-blue-zir01ljsm-001.html\n",
      "https://www.zalando.nl/cadeaubonnen\n",
      "https://www.zalando.nl/nike-performance-t-shirt-print-black-zir01nju8-001.html\n",
      "https://www.zalando.nl/tommy-hilfiger-poloshirt-white-zir00wh64-001.html\n",
      "https://www.zalando.nl/lyle-and-scott-poloshirt-blue-zir01p3ok-001.html\n",
      "https://www.zalando.nl/hugo-poloshirt-green-zir00uvws-001.html\n",
      "https://www.zalando.nl/weekday-sweater-brown-zir01hyk9-001.html\n",
      "https://www.zalando.nl/g-star-sweater-brown-zir01ivs2-001.html\n",
      "https://www.zalando.nl/american-eagle-outfitters-longsleeve-black-zir00uvt6-001.html\n",
      "https://www.zalando.nl/gant-top-grey-zir01osal-001.html\n",
      "https://www.zalando.nl/gaastra-t-shirt-print-brown-zir01r3br-001.html\n",
      "https://www.zalando.nl/vintage-55-longsleeve-grey-zir00uwjo-001.html\n",
      "https://www.zalando.nl/nike-performance-t-shirt-print-red-zir018tao-001.html\n",
      "https://www.zalando.nl/hugo-longsleeve-blue-zir01g9ik-001.html\n",
      "https://www.zalando.nl/diesel-poloshirt-black-zir00uwjj-001.html\n",
      "https://www.zalando.nl/hollister-co-longsleeve-beige-zir01rby3-001.html\n",
      "https://www.zalando.nl/asos-longsleeve-grey-zir019b5j-001.html\n",
      "https://www.zalando.nl/abercrombie-and-fitch-longsleeve-yellow-zir01rbuk-001.html\n",
      "https://www.zalando.nl/daniel-hechter-poloshirt-yellow-zir01ranu-001.html\n",
      "https://www.zalando.nl/golfino-poloshirt-brown-zir01oyub-001.html\n",
      "https://www.zalando.nl/soliver-longsleeve-green-zir01r97y-001.html\n"
     ]
    }
   ],
   "source": [
    "# return the href attribute in the <div> tag nested to get the products on the first page\n",
    "for link in soup.find_all(class_=\"_LM JT3_zV CKDt_l CKDt_l LyRfpJ\"): \n",
    "    print(link.attrs[\"href\"])"
   ]
  },
  {
   "cell_type": "code",
   "execution_count": 4,
   "metadata": {},
   "outputs": [
    {
     "name": "stdout",
     "output_type": "stream",
     "text": [
      "https://www.zalando.nl/pre-owned-mode-heren/?p=1\n"
     ]
    }
   ],
   "source": [
    "# getting a base url. \n",
    "base_url = \"https://www.zalando.nl/pre-owned-mode-heren/\"\n",
    "counter = 1\n",
    "full_url = base_url + \"?p=\" + str(counter)\n",
    "print(full_url)"
   ]
  },
  {
   "cell_type": "code",
   "execution_count": 6,
   "metadata": {},
   "outputs": [],
   "source": [
    "# \n",
    "def generate_page_urls(base_url, num_pages):\n",
    "    '''generate a list of full page urls from a base url and counter that has takes on the values between 1 and num_pages'''\n",
    "    page_urls = []\n",
    "    \n",
    "    for counter in range(1, num_pages + 1):\n",
    "        full_url = base_url + \"?p=\" + str(counter)\n",
    "        page_urls.append(full_url)\n",
    "        \n",
    "    return page_urls"
   ]
  },
  {
   "cell_type": "code",
   "execution_count": 5,
   "metadata": {},
   "outputs": [
    {
     "data": {
      "text/plain": [
       "['https://www.zalando.nl/pre-owned-mode-heren/?p=1',\n",
       " 'https://www.zalando.nl/pre-owned-mode-heren/?p=2',\n",
       " 'https://www.zalando.nl/pre-owned-mode-heren/?p=3',\n",
       " 'https://www.zalando.nl/pre-owned-mode-heren/?p=4',\n",
       " 'https://www.zalando.nl/pre-owned-mode-heren/?p=5']"
      ]
     },
     "execution_count": 5,
     "metadata": {},
     "output_type": "execute_result"
    }
   ],
   "source": [
    "# \n",
    "generate_page_urls(\"https://www.zalando.nl/pre-owned-mode-heren/\", 5)\n"
   ]
  },
  {
   "cell_type": "code",
   "execution_count": 7,
   "metadata": {},
   "outputs": [
    {
     "name": "stdout",
     "output_type": "stream",
     "text": [
      "[{'url': 'https://www.zalando.nl/nike-sportswear-t-shirt-print-pink-zir01obhv-001.html', 'brand': 'Nike Sportswear'}, {'url': 'https://www.zalando.nl/ea7-emporio-armani-longsleeve-black-zir01p19k-001.html', 'brand': 'EA7 Emporio Armani'}, {'url': 'https://www.zalando.nl/jlindeberg-longsleeve-red-zir01ekpk-001.html', 'brand': 'J.LINDEBERG'}, {'url': 'https://www.zalando.nl/scotch-and-soda-poloshirt-purple-zir00uvw6-001.html', 'brand': 'Scotch & Soda'}, {'url': 'https://www.zalando.nl/scotch-and-soda-overhemd-blue-zir0196hu-001.html', 'brand': 'Scotch & Soda'}, {'url': 'https://www.zalando.nl/levis-t-shirt-print-beige-zir00wsgb-001.html', 'brand': \"Levi's®\"}, {'url': 'https://www.zalando.nl/ellesse-t-shirt-print-blue-zir0161gj-001.html', 'brand': 'Ellesse'}, {'url': 'https://www.zalando.nl/timberland-t-shirt-print-yellow-zir00uvz3-001.html', 'brand': 'Timberland'}, {'url': 'https://www.zalando.nl/polo-ralph-lauren-overhemd-blue-zir01ljsm-001.html', 'brand': 'Polo Ralph Lauren'}, {'url': 'https://www.zalando.nl/nike-performance-t-shirt-print-black-zir01nju8-001.html', 'brand': 'Nike Performance'}, {'url': 'https://www.zalando.nl/tommy-hilfiger-poloshirt-white-zir00wh64-001.html', 'brand': 'Tommy Hilfiger'}, {'url': 'https://www.zalando.nl/lyle-and-scott-poloshirt-blue-zir01p3ok-001.html', 'brand': 'Lyle & Scott'}, {'url': 'https://www.zalando.nl/hugo-poloshirt-green-zir00uvws-001.html', 'brand': 'HUGO'}, {'url': 'https://www.zalando.nl/weekday-sweater-brown-zir01hyk9-001.html', 'brand': 'Weekday'}, {'url': 'https://www.zalando.nl/g-star-sweater-brown-zir01ivs2-001.html', 'brand': 'G-Star'}, {'url': 'https://www.zalando.nl/american-eagle-outfitters-longsleeve-black-zir00uvt6-001.html', 'brand': 'American Eagle Outfitters'}, {'url': 'https://www.zalando.nl/gant-top-grey-zir01osal-001.html', 'brand': 'GANT'}, {'url': 'https://www.zalando.nl/gaastra-t-shirt-print-brown-zir01r3br-001.html', 'brand': 'Gaastra'}, {'url': 'https://www.zalando.nl/vintage-55-longsleeve-grey-zir00uwjo-001.html', 'brand': 'Vintage 55'}, {'url': 'https://www.zalando.nl/nike-performance-t-shirt-print-red-zir018tao-001.html', 'brand': 'Nike Performance'}, {'url': 'https://www.zalando.nl/hugo-longsleeve-blue-zir01g9ik-001.html', 'brand': 'HUGO'}, {'url': 'https://www.zalando.nl/diesel-poloshirt-black-zir00uwjj-001.html', 'brand': 'Diesel'}, {'url': 'https://www.zalando.nl/hollister-co-longsleeve-beige-zir01rby3-001.html', 'brand': 'Hollister Co.'}, {'url': 'https://www.zalando.nl/asos-longsleeve-grey-zir019b5j-001.html', 'brand': 'ASOS'}, {'url': 'https://www.zalando.nl/abercrombie-and-fitch-longsleeve-yellow-zir01rbuk-001.html', 'brand': 'Abercrombie & Fitch'}, {'url': 'https://www.zalando.nl/daniel-hechter-poloshirt-yellow-zir01ranu-001.html', 'brand': 'Daniel Hechter'}, {'url': 'https://www.zalando.nl/golfino-poloshirt-brown-zir01oyub-001.html', 'brand': 'Golfino'}, {'url': 'https://www.zalando.nl/soliver-longsleeve-green-zir01r97y-001.html', 'brand': 's.Oliver'}]\n"
     ]
    }
   ],
   "source": [
    "# list of all brands and urls on the overview page. It stops at a certain number. Not really necessary for the analysis, but good to know that this works. \n",
    "brands = soup.find_all(class_=\"_0mW-4D _0xLoFW JT3_zV mo6ZnF _78xIQ- U4aOaA\")\n",
    "brand_urls = []\n",
    "\n",
    "for brand in brands: \n",
    "    brand_url = brand.find(\"a\").attrs[\"href\"]\n",
    "    brand_instock = brand.find(\"span\", class_=\"u-6V88 ka2E9k uMhVZi FxZV-M SZKKsK pVrzNP ZkIJC- r9BRio qXofat EKabf7\").text # only this changed!\n",
    "    brand_urls.append({\"url\": brand_url,\n",
    "                     \"brand\": brand_instock})\n",
    "    \n",
    "# print the first five urls\n",
    "print(brand_urls[0:50])"
   ]
  },
  {
   "cell_type": "code",
   "execution_count": 8,
   "metadata": {},
   "outputs": [],
   "source": [
    "# extracting the brand name and product url from all the pages.\n",
    "def extract_brand_urls(page_urls):\n",
    "    '''Extract the url and the brand of products on different pages '''\n",
    "    brand_list = []\n",
    "    \n",
    "    # collect all brands on page_url\n",
    "    for page_url in page_urls: \n",
    "        print(page_url)\n",
    "        res = requests.get(page_url)\n",
    "        soup = BeautifulSoup(res.text, \"html.parser\")\n",
    "        brands = soup.find_all(class_=\"_0mW-4D _0xLoFW JT3_zV mo6ZnF _78xIQ- U4aOaA\")\n",
    "        \n",
    "        sleep(1)\n",
    "\n",
    "        for brand in brands: \n",
    "            brand_url = \"https://www.zalando.nl/pre-owned-mode-heren/\" + brand.find(\"a\").attrs[\"href\"]\n",
    "            brand_name = brand.find(\"span\", class_=\"u-6V88 ka2E9k uMhVZi FxZV-M SZKKsK pVrzNP ZkIJC- r9BRio qXofat EKabf7\").text # only this changed!\n",
    "            brand_list.append({\"url\": brand_url,\n",
    "                             \"brand\": brand_name}) \n",
    "            \n",
    "                        \n",
    "    return brand_list"
   ]
  },
  {
   "cell_type": "code",
   "execution_count": null,
   "metadata": {},
   "outputs": [],
   "source": [
    "# IT STOPS RUNNING FROM HERE! THE CODE CHUNK HEREAFTER DOES NOT LOAD. WE DO NOT KNOW WHY"
   ]
  },
  {
   "cell_type": "code",
   "execution_count": null,
   "metadata": {},
   "outputs": [],
   "source": [
    "# WHERE DO THERE NEED TO BE SLEEP() IN THESE CODE CHUNKS?"
   ]
  },
  {
   "cell_type": "code",
   "execution_count": null,
   "metadata": {
    "scrolled": true
   },
   "outputs": [
    {
     "name": "stdout",
     "output_type": "stream",
     "text": [
      "https://www.zalando.nl/pre-owned-mode-heren/?p=1\n"
     ]
    }
   ],
   "source": [
    "base_url = \"https://www.zalando.nl/pre-owned-mode-heren/\"\n",
    "page_urls = generate_page_urls(base_url, 1) # first scrape one page\n",
    "brand_list = extract_brand_urls(page_urls)"
   ]
  },
  {
   "cell_type": "code",
   "execution_count": null,
   "metadata": {},
   "outputs": [],
   "source": [
    "book_list[0:5]"
   ]
  },
  {
   "cell_type": "code",
   "execution_count": null,
   "metadata": {},
   "outputs": [],
   "source": [
    "# extract all pages of Zalando Pre-owned heren \n",
    "\n",
    "def extract_all_brands(page_url):\n",
    "    brands = []\n",
    "    while page_url:\n",
    "        print(page_url)\n",
    "        for brand in extract_brand_urls([page_url]):\n",
    "            brands.append(brand)\n",
    "        \n",
    "        if check_next_page(page_url) != None: \n",
    "            page_url = \"https://www.zalando.nl/pre-owned-mode-heren/?p=1\" + check_next_page(page_url)\n",
    "        else: \n",
    "            break\n",
    "        \n",
    "        # if \"page-4\" in page_url: break # (activate this if we don't want to run the entire loop)\n",
    "    return brands"
   ]
  },
  {
   "cell_type": "code",
   "execution_count": null,
   "metadata": {},
   "outputs": [],
   "source": [
    "brand_list = extract_all_brands(\"https://www.zalando.nl/pre-owned-mode-heren/\")"
   ]
  },
  {
   "cell_type": "code",
   "execution_count": null,
   "metadata": {},
   "outputs": [],
   "source": [
    "brand_list[]"
   ]
  },
  {
   "cell_type": "code",
   "execution_count": null,
   "metadata": {},
   "outputs": [],
   "source": [
    "# total number of products\n",
    "len(brands)\n",
    "\n",
    "# check total number of products for a certain brand (e.g. Armani)\n",
    "len([brand for brand in brand_list if \"armani\" in brand[\"brand\"].lower()])"
   ]
  },
  {
   "cell_type": "code",
   "execution_count": null,
   "metadata": {},
   "outputs": [],
   "source": [
    "# scraping information from product pages\n",
    "\n",
    "## do not know yet if it works\n",
    "\n",
    "def get_product_pages(brands):\n",
    "    product_pages = []\n",
    "    \n",
    "    for brand in brands: \n",
    "        page_url = brand[\"url\"]\n",
    "\n",
    "        res = requests.get(page_url)\n",
    "        soup = BeautifulSoup(res.text, \"html.parser\")\n",
    "\n",
    "        # scraping the variables we want\n",
    "        brand = soup.find(\"h3\", class_=\"mt1kvu ka2E9k uMhVZi FxZV-M SZKKsK pVrzNP _5Yd-hZ\").text\n",
    "        category = soup.find(\"span\", class_=\"EKabf7 R_QwOV\").text\n",
    "        price = soup.find(\"span\", class_=\"uqkIZw ka2E9k uMhVZi FxZV-M RYghuO pVrzNP\").text\n",
    "        size = soup.find(\"span\", class_=\"_7Cm1F9 ka2E9k uMhVZi dgII7d RYghuO pVrzNP\").text\n",
    "        delivery_time = soup.find(\"span\", class_=\"u-6V88 ka2E9k uMhVZi dgII7d RYghuO pVrzNP\").text\n",
    "        product_pages.append({\"url\", page_url,\n",
    "                             \"brand\": brand,\n",
    "                             \"category\": category,\n",
    "                             \"price\": price,\n",
    "                             \"size\": size,\n",
    "                             \"delivery time\": delivery_time})\n",
    "   \n",
    "    return product_pages\n",
    "\n",
    "product_pages = get_product_pages(brand_list)\n",
    "product_pages"
   ]
  }
 ],
 "metadata": {
  "kernelspec": {
   "display_name": "Python 3",
   "language": "python",
   "name": "python3"
  },
  "language_info": {
   "codemirror_mode": {
    "name": "ipython",
    "version": 3
   },
   "file_extension": ".py",
   "mimetype": "text/x-python",
   "name": "python",
   "nbconvert_exporter": "python",
   "pygments_lexer": "ipython3",
   "version": "3.8.5"
  }
 },
 "nbformat": 4,
 "nbformat_minor": 5
}
