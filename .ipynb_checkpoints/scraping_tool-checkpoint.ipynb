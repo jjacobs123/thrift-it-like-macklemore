{
 "cells": [
  {
   "cell_type": "code",
   "execution_count": null,
   "metadata": {},
   "outputs": [],
   "source": [
    "## GOOD TO KNOW \n",
    "\n",
    "# website = https://zalando.nl/pre-owned-mode-heren/index.html\n",
    "# article class = _0mW-4D _0xLoFW JT3_zV mo6ZnF _78xIQ- U4aOaA\n",
    "# figure class = heWLCX\n",
    "# tag product brand names = <span> \n",
    "# inspecting a product gives us: <a class=\"_LM JT3_zV CKDt_l CKDt_l LyRfpJ\"href=\"https://www.zalando.nl/g-star-overhemd-blue-zir01hbly-001.html\" rel=\"\">\n"
   ]
  },
  {
   "cell_type": "code",
   "execution_count": null,
   "metadata": {},
   "outputs": [],
   "source": []
  },
  {
   "cell_type": "code",
   "execution_count": null,
   "metadata": {},
   "outputs": [],
   "source": [
    "\n"
   ]
  },
  {
   "cell_type": "code",
   "execution_count": 12,
   "metadata": {},
   "outputs": [],
   "source": [
    "import requests\n",
    "from bs4 import BeautifulSoup\n",
    "\n",
    "#debug = {'verbose': sys.stderr}\n",
    "user_agent = {'User-agent': 'Mozilla/5.0 (Windows NT 10.0; Win64; x64) AppleWebKit/537.36 (KHTML, like Gecko) Chrome/98.0.4758.102 Safari/537.36 Edg/98.0.1108.62'}  \n",
    "#response  = requests.get(url, headers = user_agent, config=debug)\n",
    "\n",
    "# make a get request to the zalando pre-owned overview page\n",
    "url = 'https://www.zalando.nl/pre-owned-mode-heren/index.html'\n",
    "res = requests.get(url, headers = user_agent)\n",
    "\n",
    "f=open('website.html', 'w',encoding='utf-8')\n",
    "f.write(res.text)\n",
    "f.close()\n",
    "\n",
    "soup = BeautifulSoup(res.text, \"html.parser\") \n"
   ]
  },
  {
   "cell_type": "code",
   "execution_count": 4,
   "metadata": {},
   "outputs": [
    {
     "name": "stdout",
     "output_type": "stream",
     "text": [
      "/faq/\n",
      "/faq/\n",
      "/faq/Retour-and-Terugbetaling/Voorwaarden-retourneren.html/\n",
      "/dames-home/\n",
      "/heren-home/\n",
      "/kinderen-home/\n",
      "/\n",
      "/zalandoplus/\n",
      "/myaccount/\n",
      "/wardrobe/\n",
      "/cart/\n"
     ]
    },
    {
     "ename": "KeyError",
     "evalue": "'href'",
     "output_type": "error",
     "traceback": [
      "\u001b[1;31m---------------------------------------------------------------------------\u001b[0m",
      "\u001b[1;31mKeyError\u001b[0m                                  Traceback (most recent call last)",
      "\u001b[1;32m<ipython-input-4-b9a779e49b30>\u001b[0m in \u001b[0;36m<module>\u001b[1;34m\u001b[0m\n\u001b[0;32m      1\u001b[0m \u001b[1;31m# return the href attribute in the <div> tag nested to get the products on the first page\u001b[0m\u001b[1;33m\u001b[0m\u001b[1;33m\u001b[0m\u001b[1;33m\u001b[0m\u001b[0m\n\u001b[0;32m      2\u001b[0m \u001b[1;32mfor\u001b[0m \u001b[0mlink\u001b[0m \u001b[1;32min\u001b[0m \u001b[0msoup\u001b[0m\u001b[1;33m.\u001b[0m\u001b[0mfind_all\u001b[0m\u001b[1;33m(\u001b[0m\u001b[1;34m\"a\"\u001b[0m\u001b[1;33m)\u001b[0m\u001b[1;33m:\u001b[0m\u001b[1;33m\u001b[0m\u001b[1;33m\u001b[0m\u001b[0m\n\u001b[1;32m----> 3\u001b[1;33m     \u001b[0mprint\u001b[0m\u001b[1;33m(\u001b[0m\u001b[0mlink\u001b[0m\u001b[1;33m.\u001b[0m\u001b[0mattrs\u001b[0m\u001b[1;33m[\u001b[0m\u001b[1;34m\"href\"\u001b[0m\u001b[1;33m]\u001b[0m\u001b[1;33m)\u001b[0m\u001b[1;33m\u001b[0m\u001b[1;33m\u001b[0m\u001b[0m\n\u001b[0m",
      "\u001b[1;31mKeyError\u001b[0m: 'href'"
     ]
    }
   ],
   "source": [
    "# return the href attribute in the <div> tag nested to get the products on the first page\n",
    "for link in soup.find_all(\"a\"): \n",
    "    print(link.attrs[\"href\"])"
   ]
  },
  {
   "cell_type": "code",
   "execution_count": 8,
   "metadata": {},
   "outputs": [],
   "source": [
    "# list of all brands on the overview page\n",
    "brands = soup.find_all(class_=\"_0mW-4D _0xLoFW JT3_zV mo6ZnF _78xIQ- U4aOaA\")\n",
    "brands = []\n",
    "\n",
    "for brand in brands: \n",
    "    brand = brand.find(\"div\").attrs[\"_0mW-4D _0xLoFW JT3_zV mo6ZnF _78xIQ- U4aOaA\"]\n",
    "    brands.append(brand)"
   ]
  },
  {
   "cell_type": "code",
   "execution_count": 9,
   "metadata": {},
   "outputs": [
    {
     "data": {
      "text/plain": [
       "[]"
      ]
     },
     "execution_count": 9,
     "metadata": {},
     "output_type": "execute_result"
    }
   ],
   "source": [
    "brands"
   ]
  },
  {
   "cell_type": "code",
   "execution_count": null,
   "metadata": {},
   "outputs": [],
   "source": []
  }
 ],
 "metadata": {
  "kernelspec": {
   "display_name": "Python 3",
   "language": "python",
   "name": "python3"
  },
  "language_info": {
   "codemirror_mode": {
    "name": "ipython",
    "version": 3
   },
   "file_extension": ".py",
   "mimetype": "text/x-python",
   "name": "python",
   "nbconvert_exporter": "python",
   "pygments_lexer": "ipython3",
   "version": "3.8.5"
  }
 },
 "nbformat": 4,
 "nbformat_minor": 5
}
