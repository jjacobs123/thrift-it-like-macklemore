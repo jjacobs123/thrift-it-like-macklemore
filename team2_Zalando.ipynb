{
 "cells": [
  {
   "cell_type": "markdown",
   "metadata": {},
   "source": [
    "# Zalando scraper"
   ]
  },
  {
   "cell_type": "code",
   "execution_count": 1,
   "metadata": {},
   "outputs": [],
   "source": [
    "## GOOD TO KNOW \n",
    "\n",
    "# website = https://zalando.nl/pre-owned-mode-heren/index.html\n",
    "# article class = _0mW-4D _0xLoFW JT3_zV mo6ZnF _78xIQ- U4aOaA\n",
    "# figure class = heWLCX\n",
    "# tag product brand names = <span> \n",
    "# inspecting a product gives us: <a class=\"_LM JT3_zV CKDt_l CKDt_l LyRfpJ\"href=\"https://www.zalando.nl/g-star-overhemd-blue-zir01hbly-001.html\" rel=\"\">\n"
   ]
  },
  {
   "cell_type": "code",
   "execution_count": null,
   "metadata": {},
   "outputs": [],
   "source": []
  },
  {
   "cell_type": "code",
   "execution_count": 67,
   "metadata": {},
   "outputs": [],
   "source": [
    "\n",
    "import pandas as pd\n",
    "import numpy as np\n",
    "import requests\n",
    "from bs4 import BeautifulSoup\n",
    "from time import sleep\n"
   ]
  },
  {
   "cell_type": "code",
   "execution_count": 68,
   "metadata": {},
   "outputs": [],
   "source": [
    "import requests\n",
    "from bs4 import BeautifulSoup\n",
    "\n",
    "#debug = {'verbose': sys.stderr}\n",
    "user_agent = {'User-agent': 'Mozilla/5.0 (Windows NT 10.0; Win64; x64) AppleWebKit/537.36 (KHTML, like Gecko) Chrome/98.0.4758.102 Safari/537.36 Edg/98.0.1108.62'}  \n",
    "#response  = requests.get(url, headers = user_agent, config=debug)\n",
    "\n",
    "# make a get request to the zalando pre-owned overview page\n",
    "url = 'https://www.zalando.nl/pre-owned-mode-heren/index.html'\n",
    "res = requests.get(url, headers = user_agent)\n",
    "f=open('website.html', 'w',encoding='utf-8')\n",
    "f.write(res.text)\n",
    "f.close()\n",
    "\n",
    "soup = BeautifulSoup(res.text, \"html.parser\") \n"
   ]
  },
  {
   "cell_type": "code",
   "execution_count": 3,
   "metadata": {},
   "outputs": [
    {
     "name": "stdout",
     "output_type": "stream",
     "text": [
      "https://www.zalando.nl/hugo-chino-brown-zir01ro5s-001.html\n",
      "https://www.zalando.nl/jack-and-jones-chino-grey-zir01otwa-001.html\n",
      "https://www.zalando.nl/cinque-chino-black-zir01mire-001.html\n",
      "https://www.zalando.nl/selected-homme-chino-red-zir01ou96-001.html\n",
      "https://www.zalando.nl/boss-chino-blue-zir01k8mc-001.html\n",
      "https://www.zalando.nl/lagerfeld-chino-grey-zir01rjrs-001.html\n",
      "https://www.zalando.nl/mac-straight-leg-jeans-blue-zir01kgaf-001.html\n",
      "https://www.zalando.nl/brax-chino-beige-zir01kgfn-001.html\n",
      "https://www.zalando.nl/banana-republic-chino-beige-zir01ovmh-001.html\n",
      "https://www.zalando.nl/cadeaubonnen\n",
      "https://www.zalando.nl/wood-wood-chino-beige-zir01n9uc-001.html\n",
      "https://www.zalando.nl/boss-chino-brown-zir01rk89-001.html\n",
      "https://www.zalando.nl/drykorn-pantalon-black-zir01n4ls-001.html\n",
      "https://www.zalando.nl/brax-broek-grey-zir01ou78-001.html\n",
      "https://www.zalando.nl/selected-homme-chino-green-zir01rld2-001.html\n",
      "https://www.zalando.nl/tommy-hilfiger-chino-blue-zir01k2pn-001.html\n",
      "https://www.zalando.nl/g-star-slim-fit-jeans-blue-zir01rpsx-001.html\n",
      "https://www.zalando.nl/g-star-shorts-green-zir01rkq6-001.html\n",
      "https://www.zalando.nl/jack-and-jones-broek-grey-zir01ou2r-001.html\n",
      "https://www.zalando.nl/mod-straight-leg-jeans-blue-zir01rjrx-001.html\n",
      "https://www.zalando.nl/brax-straight-leg-jeans-brown-zir01op9v-001.html\n",
      "https://www.zalando.nl/charles-tyrwhitt-broek-blue-zir01kqol-001.html\n",
      "https://www.zalando.nl/boss-broek-light-brown-zir01k769-001.html\n",
      "https://www.zalando.nl/g-star-slim-fit-jeans-blue-zir01rk7r-001.html\n",
      "https://www.zalando.nl/boss-broek-blue-zir01k2lw-001.html\n",
      "https://www.zalando.nl/scotch-and-soda-slim-fit-jeans-grey-zir01ni5y-001.html\n",
      "https://www.zalando.nl/hugo-broek-beige-zir01rohg-001.html\n",
      "https://www.zalando.nl/levis-straight-leg-jeans-blue-zir01k1u2-001.html\n",
      "https://www.zalando.nl/selected-homme-broek-black-zir01lbql-001.html\n"
     ]
    }
   ],
   "source": [
    "# return the href attribute in the <div> tag nested to get the products on the first page\n",
    "for link in soup.find_all(class_=\"_LM JT3_zV CKDt_l CKDt_l LyRfpJ\"): \n",
    "    print(link.attrs[\"href\"])"
   ]
  },
  {
   "cell_type": "code",
   "execution_count": 69,
   "metadata": {},
   "outputs": [
    {
     "name": "stdout",
     "output_type": "stream",
     "text": [
      "https://www.zalando.nl/pre-owned-mode-heren/?p=1\n"
     ]
    }
   ],
   "source": [
    "# getting a base url. (Maybe not necessary for the analysis)\n",
    "base_url = \"https://www.zalando.nl/pre-owned-mode-heren/\"\n",
    "counter = 1\n",
    "full_url = base_url + \"?p=\" + str(counter)\n",
    "print(full_url)"
   ]
  },
  {
   "cell_type": "code",
   "execution_count": 70,
   "metadata": {},
   "outputs": [],
   "source": [
    "# (Maybe not necessary for the analysis)\n",
    "def generate_page_urls(base_url, num_pages):\n",
    "    '''generate a list of full page urls from a base url and counter that has takes on the values between 1 and num_pages'''\n",
    "    page_urls = []\n",
    "    \n",
    "    for counter in range(1, num_pages + 1):\n",
    "        full_url = base_url + \"?p=\" + str(counter)\n",
    "        page_urls.append(full_url)\n",
    "        \n",
    "    return page_urls"
   ]
  },
  {
   "cell_type": "code",
   "execution_count": 71,
   "metadata": {},
   "outputs": [
    {
     "data": {
      "text/plain": [
       "['https://www.zalando.nl/pre-owned-mode-heren/?p=1',\n",
       " 'https://www.zalando.nl/pre-owned-mode-heren/?p=2',\n",
       " 'https://www.zalando.nl/pre-owned-mode-heren/?p=3',\n",
       " 'https://www.zalando.nl/pre-owned-mode-heren/?p=4',\n",
       " 'https://www.zalando.nl/pre-owned-mode-heren/?p=5']"
      ]
     },
     "execution_count": 71,
     "metadata": {},
     "output_type": "execute_result"
    }
   ],
   "source": [
    "# (Maybe not necessary for the analysis)\n",
    "generate_page_urls(\"https://www.zalando.nl/pre-owned-mode-heren/\", 5)\n"
   ]
  },
  {
   "cell_type": "code",
   "execution_count": null,
   "metadata": {},
   "outputs": [],
   "source": []
  },
  {
   "cell_type": "code",
   "execution_count": null,
   "metadata": {},
   "outputs": [],
   "source": []
  },
  {
   "cell_type": "code",
   "execution_count": 61,
   "metadata": {},
   "outputs": [],
   "source": []
  },
  {
   "cell_type": "code",
   "execution_count": 85,
   "metadata": {},
   "outputs": [],
   "source": [
    "import time\n",
    "# extracting the brand name and product url from all the pages.\n",
    "def extract_brand_urls(page_urls):\n",
    "    '''Extract the url and the brand of products on different pages '''\n",
    "    brand_list = []\n",
    "    \n",
    "    # collect all brands on page_url\n",
    "    for page_url in page_urls: \n",
    "        print(page_url)\n",
    "        res = requests.get(page_url, page_url, headers = user_agent)\n",
    "        soup = BeautifulSoup(res.text, \"html.parser\")\n",
    "        brands = soup.find_all('article', attrs = {'class': \"_0mW-4D _0xLoFW JT3_zV mo6ZnF _78xIQ- U4aOaA\"})\n",
    "        \n",
    "        time.sleep(1)\n",
    "\n",
    "        for brand in brands: \n",
    "            brand_url = brand.find(\"a\").attrs[\"href\"]\n",
    "            brand_name = brand.find(\"span\", class_=\"u-6V88 ka2E9k uMhVZi FxZV-M SZKKsK pVrzNP ZkIJC- r9BRio qXofat EKabf7\").text # only this changed!\n",
    "            brand_list.append({\"url\": brand_url,\n",
    "                             \"brand\": brand_name}) \n",
    "            \n",
    "                        \n",
    "    return brand_list"
   ]
  },
  {
   "cell_type": "code",
   "execution_count": 39,
   "metadata": {},
   "outputs": [],
   "source": [
    "# IT STOPS RUNNING FROM HERE! THE CODE CHUNK HEREAFTER DOES NOT LOAD. WE DO NOT KNOW WHY"
   ]
  },
  {
   "cell_type": "code",
   "execution_count": 40,
   "metadata": {},
   "outputs": [],
   "source": [
    "# WHERE DO THERE NEED TO BE SLEEP() IN THESE CODE CHUNKS?"
   ]
  },
  {
   "cell_type": "code",
   "execution_count": 73,
   "metadata": {},
   "outputs": [
    {
     "name": "stdout",
     "output_type": "stream",
     "text": [
      "https://www.zalando.nl/pre-owned-mode-heren/?p=1\n",
      "https://www.zalando.nl/pre-owned-mode-heren/?p=2\n",
      "done\n"
     ]
    }
   ],
   "source": [
    "base_url = \"https://www.zalando.nl/pre-owned-mode-heren/\"\n",
    "page_urls = generate_page_urls(base_url, 2) # first scrape one page\n",
    "brand_list = extract_brand_urls(page_urls)\n",
    "print(\"done\")\n"
   ]
  },
  {
   "cell_type": "code",
   "execution_count": null,
   "metadata": {},
   "outputs": [],
   "source": []
  },
  {
   "cell_type": "code",
   "execution_count": 83,
   "metadata": {},
   "outputs": [
    {
     "data": {
      "text/plain": [
       "[{'url': 'https://www.zalando.nl/polo-ralph-lauren-overhemd-blue-zir01p555-001.html',\n",
       "  'brand': 'Polo Ralph Lauren'},\n",
       " {'url': 'https://www.zalando.nl/hugo-chino-brown-zir01ro5s-001.html',\n",
       "  'brand': 'HUGO'},\n",
       " {'url': 'https://www.zalando.nl/jack-and-jones-chino-grey-zir01otwa-001.html',\n",
       "  'brand': 'Jack & Jones'},\n",
       " {'url': 'https://www.zalando.nl/cinque-chino-black-zir01mire-001.html',\n",
       "  'brand': 'Cinque'},\n",
       " {'url': 'https://www.zalando.nl/selected-homme-chino-red-zir01ou96-001.html',\n",
       "  'brand': 'Selected Homme'},\n",
       " {'url': 'https://www.zalando.nl/boss-chino-blue-zir01k8mc-001.html',\n",
       "  'brand': 'BOSS'},\n",
       " {'url': 'https://www.zalando.nl/mac-straight-leg-jeans-blue-zir01kgaf-001.html',\n",
       "  'brand': 'MAC'},\n",
       " {'url': 'https://www.zalando.nl/brax-chino-beige-zir01kgfn-001.html',\n",
       "  'brand': 'BRAX'},\n",
       " {'url': 'https://www.zalando.nl/banana-republic-chino-beige-zir01ovmh-001.html',\n",
       "  'brand': 'Banana Republic'},\n",
       " {'url': 'https://www.zalando.nl/wood-wood-chino-beige-zir01n9uc-001.html',\n",
       "  'brand': 'Wood Wood'},\n",
       " {'url': 'https://www.zalando.nl/boss-chino-brown-zir01rk89-001.html',\n",
       "  'brand': 'BOSS'},\n",
       " {'url': 'https://www.zalando.nl/drykorn-pantalon-black-zir01n4ls-001.html',\n",
       "  'brand': 'DRYKORN'},\n",
       " {'url': 'https://www.zalando.nl/brax-broek-grey-zir01ou78-001.html',\n",
       "  'brand': 'BRAX'},\n",
       " {'url': 'https://www.zalando.nl/tommy-hilfiger-chino-blue-zir01k2pn-001.html',\n",
       "  'brand': 'Tommy Hilfiger'},\n",
       " {'url': 'https://www.zalando.nl/g-star-slim-fit-jeans-blue-zir01rpsx-001.html',\n",
       "  'brand': 'G-Star'},\n",
       " {'url': 'https://www.zalando.nl/jack-and-jones-broek-grey-zir01ou2r-001.html',\n",
       "  'brand': 'Jack & Jones'},\n",
       " {'url': 'https://www.zalando.nl/brax-straight-leg-jeans-brown-zir01op9v-001.html',\n",
       "  'brand': 'BRAX'},\n",
       " {'url': 'https://www.zalando.nl/charles-tyrwhitt-broek-blue-zir01kqol-001.html',\n",
       "  'brand': 'Charles Tyrwhitt'},\n",
       " {'url': 'https://www.zalando.nl/boss-broek-light-brown-zir01k769-001.html',\n",
       "  'brand': 'BOSS'},\n",
       " {'url': 'https://www.zalando.nl/boss-broek-blue-zir01k2lw-001.html',\n",
       "  'brand': 'BOSS'},\n",
       " {'url': 'https://www.zalando.nl/levis-straight-leg-jeans-blue-zir01k1u2-001.html',\n",
       "  'brand': \"Levi's®\"},\n",
       " {'url': 'https://www.zalando.nl/selected-homme-broek-black-zir01lbql-001.html',\n",
       "  'brand': 'Selected Homme'},\n",
       " {'url': 'https://www.zalando.nl/jack-and-jones-slim-fit-jeans-blue-zir01mj1b-001.html',\n",
       "  'brand': 'Jack & Jones'},\n",
       " {'url': 'https://www.zalando.nl/boss-straight-leg-jeans-grey-zir01k4mz-001.html',\n",
       "  'brand': 'BOSS'},\n",
       " {'url': 'https://www.zalando.nl/mod-straight-leg-jeans-blue-zir01rlid-001.html',\n",
       "  'brand': 'M.O.D'},\n",
       " {'url': 'https://www.zalando.nl/armani-jeans-straight-leg-jeans-blue-zir01ovcu-001.html',\n",
       "  'brand': 'Armani Jeans'},\n",
       " {'url': 'https://www.zalando.nl/hugo-jeans-tapered-fit-blue-zir01k4j4-001.html',\n",
       "  'brand': 'HUGO'},\n",
       " {'url': 'https://www.zalando.nl/mavi-broek-black-zir01osqv-001.html',\n",
       "  'brand': 'Mavi'},\n",
       " {'url': 'https://www.zalando.nl/marc-opolo-straight-leg-jeans-beige-zir01k3t4-001.html',\n",
       "  'brand': \"Marc O'Polo\"},\n",
       " {'url': 'https://www.zalando.nl/jlindeberg-broek-black-zir01ov92-001.html',\n",
       "  'brand': 'J.LINDEBERG'},\n",
       " {'url': 'https://www.zalando.nl/kings-of-indigo-straight-leg-jeans-black-zir01otox-001.html',\n",
       "  'brand': 'Kings Of Indigo'},\n",
       " {'url': 'https://www.zalando.nl/joop-slim-fit-jeans-blue-zir01k1ow-001.html',\n",
       "  'brand': 'JOOP!'},\n",
       " {'url': 'https://www.zalando.nl/brax-broek-brown-zir01nai6-001.html',\n",
       "  'brand': 'BRAX'},\n",
       " {'url': 'https://www.zalando.nl/brax-straight-leg-jeans-black-zir01ou5m-001.html',\n",
       "  'brand': 'BRAX'},\n",
       " {'url': 'https://www.zalando.nl/joop-jeans-straight-leg-jeans-blue-zir01rk3z-001.html',\n",
       "  'brand': 'JOOP! Jeans'},\n",
       " {'url': 'https://www.zalando.nl/lab-pal-zileri-broek-black-zir01or4y-001.html',\n",
       "  'brand': 'Lab Pal Zileri'},\n",
       " {'url': 'https://www.zalando.nl/cinque-broek-brown-zir01kg2x-001.html',\n",
       "  'brand': 'Cinque'},\n",
       " {'url': 'https://www.zalando.nl/springfield-broek-grey-zir01rmoa-001.html',\n",
       "  'brand': 'Springfield'},\n",
       " {'url': 'https://www.zalando.nl/nudie-jeans-broek-brown-zir01kqov-001.html',\n",
       "  'brand': 'Nudie Jeans'},\n",
       " {'url': 'https://www.zalando.nl/jeckerson-slim-fit-jeans-blue-zir01rkca-001.html',\n",
       "  'brand': 'Jeckerson'},\n",
       " {'url': 'https://www.zalando.nl/g-star-broek-black-zir01px9j-001.html',\n",
       "  'brand': 'G-Star'},\n",
       " {'url': 'https://www.zalando.nl/barbour-broek-red-zir01rk40-001.html',\n",
       "  'brand': 'Barbour'},\n",
       " {'url': 'https://www.zalando.nl/brax-straight-leg-jeans-grey-zir01lf8i-001.html',\n",
       "  'brand': 'BRAX'},\n",
       " {'url': 'https://www.zalando.nl/nudie-jeans-straight-leg-jeans-blue-zir01rjkh-001.html',\n",
       "  'brand': 'Nudie Jeans'},\n",
       " {'url': 'https://www.zalando.nl/brax-broek-brown-zir01osf5-001.html',\n",
       "  'brand': 'BRAX'},\n",
       " {'url': 'https://www.zalando.nl/atelier-gardeur-straight-leg-jeans-beige-zir01kq13-001.html',\n",
       "  'brand': 'Atelier Gardeur'},\n",
       " {'url': 'https://www.zalando.nl/jack-and-jones-slim-fit-jeans-blue-zir01ovnp-001.html',\n",
       "  'brand': 'Jack & Jones'},\n",
       " {'url': 'https://www.zalando.nl/marc-opolo-denim-slim-fit-jeans-blue-zir01op3m-001.html',\n",
       "  'brand': \"Marc O'Polo DENIM\"},\n",
       " {'url': 'https://www.zalando.nl/levis-slim-fit-jeans-blue-zir01k8uk-001.html',\n",
       "  'brand': \"Levi's®\"},\n",
       " {'url': 'https://www.zalando.nl/calvin-klein-jeans-straight-leg-jeans-blue-zir01k5bw-001.html',\n",
       "  'brand': 'Calvin Klein Jeans'},\n",
       " {'url': 'https://www.zalando.nl/meyer-straight-leg-jeans-green-zir01rcp4-001.html',\n",
       "  'brand': 'Meyer'},\n",
       " {'url': 'https://www.zalando.nl/g-star-broek-brown-zir01k8v3-001.html',\n",
       "  'brand': 'G-Star'},\n",
       " {'url': 'https://www.zalando.nl/tommy-hilfiger-slim-fit-jeans-blue-zir01ng6a-001.html',\n",
       "  'brand': 'Tommy Hilfiger'},\n",
       " {'url': 'https://www.zalando.nl/pepe-jeans-slim-fit-jeans-grey-zir01pv9t-001.html',\n",
       "  'brand': 'Pepe Jeans'},\n",
       " {'url': 'https://www.zalando.nl/brax-relaxed-fit-jeans-blue-zir01kftb-001.html',\n",
       "  'brand': 'BRAX'},\n",
       " {'url': 'https://www.zalando.nl/gap-slim-fit-jeans-blue-zir01nn2o-001.html',\n",
       "  'brand': 'GAP'}]"
      ]
     },
     "execution_count": 83,
     "metadata": {},
     "output_type": "execute_result"
    }
   ],
   "source": [
    "brand_list"
   ]
  },
  {
   "cell_type": "code",
   "execution_count": 58,
   "metadata": {},
   "outputs": [
    {
     "ename": "NameError",
     "evalue": "name 'driver' is not defined",
     "output_type": "error",
     "traceback": [
      "\u001b[1;31m---------------------------------------------------------------------------\u001b[0m",
      "\u001b[1;31mNameError\u001b[0m                                 Traceback (most recent call last)",
      "\u001b[1;32m<ipython-input-58-e609fcbb2a6b>\u001b[0m in \u001b[0;36m<module>\u001b[1;34m\u001b[0m\n\u001b[1;32m----> 1\u001b[1;33m \u001b[0mdriver\u001b[0m\u001b[1;33m.\u001b[0m\u001b[0mfind_elements_by_css_selector\u001b[0m\u001b[1;33m(\u001b[0m\u001b[1;34m\"div._0xLoFW FCIprz\"\u001b[0m\u001b[1;33m)\u001b[0m\u001b[1;33m[\u001b[0m\u001b[1;36m1\u001b[0m\u001b[1;33m]\u001b[0m\u001b[1;33m\u001b[0m\u001b[1;33m\u001b[0m\u001b[0m\n\u001b[0m",
      "\u001b[1;31mNameError\u001b[0m: name 'driver' is not defined"
     ]
    }
   ],
   "source": []
  },
  {
   "cell_type": "code",
   "execution_count": 74,
   "metadata": {},
   "outputs": [
    {
     "name": "stdout",
     "output_type": "stream",
     "text": [
      "The next page is: /heren/?order=activation_date\n"
     ]
    }
   ],
   "source": [
    "def check_next_page(url):\n",
    "    res = requests.get(url, headers = user_agent)\n",
    "    soup = BeautifulSoup(res.text, \"html.parser\")\n",
    "    next_btn = soup.find(class_= \"_0xLoFW FCIprz\") # observe the similarity with the code snippet used above\n",
    "    return next_btn.find(\"a\").attrs[\"href\"] if next_btn else None\n",
    "\n",
    "page_1 = \"https://www.zalando.nl/pre-owned-mode-heren/\"\n",
    "print(\"The next page is: \" + check_next_page(page_1))"
   ]
  },
  {
   "cell_type": "code",
   "execution_count": 89,
   "metadata": {},
   "outputs": [],
   "source": [
    "# extract all pages of Zalando Pre-owned heren \n",
    "\n",
    "def extract_all_brands(page_url):\n",
    "    brands = []\n",
    "    while page_url:\n",
    "        print(page_url)\n",
    "        for brand in extract_brand_urls([page_url]):\n",
    "            brands.append(brand)\n",
    "        \n",
    "        if check_next_page(page_url) != None: \n",
    "            page_url = \"https://www.zalando.nl/\" + check_next_page(page_url)\n",
    "        else: \n",
    "            break\n",
    "        \n",
    "        # if \"page-4\" in page_url: break # (activate this if we don't want to run the entire loop)\n",
    "    return brands"
   ]
  },
  {
   "cell_type": "code",
   "execution_count": 63,
   "metadata": {},
   "outputs": [
    {
     "name": "stdout",
     "output_type": "stream",
     "text": [
      "https://www.zalando.nl/pre-owned-mode-heren/\n",
      "https://www.zalando.nl/pre-owned-mode-heren/\n"
     ]
    },
    {
     "ename": "KeyError",
     "evalue": "1",
     "output_type": "error",
     "traceback": [
      "\u001b[1;31m---------------------------------------------------------------------------\u001b[0m",
      "\u001b[1;31mKeyError\u001b[0m                                  Traceback (most recent call last)",
      "\u001b[1;32m<ipython-input-63-dc6a23d35df9>\u001b[0m in \u001b[0;36m<module>\u001b[1;34m\u001b[0m\n\u001b[1;32m----> 1\u001b[1;33m \u001b[0mbrand_list\u001b[0m \u001b[1;33m=\u001b[0m \u001b[0mextract_all_brands\u001b[0m\u001b[1;33m(\u001b[0m\u001b[1;34m\"https://www.zalando.nl/pre-owned-mode-heren/\"\u001b[0m\u001b[1;33m)\u001b[0m\u001b[1;33m\u001b[0m\u001b[1;33m\u001b[0m\u001b[0m\n\u001b[0m",
      "\u001b[1;32m<ipython-input-62-8540922b1482>\u001b[0m in \u001b[0;36mextract_all_brands\u001b[1;34m(page_url)\u001b[0m\n\u001b[0;32m      8\u001b[0m             \u001b[0mbrands\u001b[0m\u001b[1;33m.\u001b[0m\u001b[0mappend\u001b[0m\u001b[1;33m(\u001b[0m\u001b[0mbrand\u001b[0m\u001b[1;33m)\u001b[0m\u001b[1;33m\u001b[0m\u001b[1;33m\u001b[0m\u001b[0m\n\u001b[0;32m      9\u001b[0m \u001b[1;33m\u001b[0m\u001b[0m\n\u001b[1;32m---> 10\u001b[1;33m         \u001b[1;32mif\u001b[0m \u001b[0mcheck_next_page\u001b[0m\u001b[1;33m(\u001b[0m\u001b[0mpage_url\u001b[0m\u001b[1;33m)\u001b[0m \u001b[1;33m!=\u001b[0m \u001b[1;32mNone\u001b[0m\u001b[1;33m:\u001b[0m\u001b[1;33m\u001b[0m\u001b[1;33m\u001b[0m\u001b[0m\n\u001b[0m\u001b[0;32m     11\u001b[0m             \u001b[0mpage_url\u001b[0m \u001b[1;33m=\u001b[0m \u001b[1;34m\"https://www.zalando.nl/\"\u001b[0m \u001b[1;33m+\u001b[0m \u001b[0mcheck_next_page\u001b[0m\u001b[1;33m(\u001b[0m\u001b[0mpage_url\u001b[0m\u001b[1;33m)\u001b[0m\u001b[1;33m\u001b[0m\u001b[1;33m\u001b[0m\u001b[0m\n\u001b[0;32m     12\u001b[0m         \u001b[1;32melse\u001b[0m\u001b[1;33m:\u001b[0m\u001b[1;33m\u001b[0m\u001b[1;33m\u001b[0m\u001b[0m\n",
      "\u001b[1;32m<ipython-input-61-f5c1f239875f>\u001b[0m in \u001b[0;36mcheck_next_page\u001b[1;34m(url)\u001b[0m\n\u001b[0;32m      2\u001b[0m     \u001b[0mres\u001b[0m \u001b[1;33m=\u001b[0m \u001b[0mrequests\u001b[0m\u001b[1;33m.\u001b[0m\u001b[0mget\u001b[0m\u001b[1;33m(\u001b[0m\u001b[0murl\u001b[0m\u001b[1;33m,\u001b[0m \u001b[0mheaders\u001b[0m \u001b[1;33m=\u001b[0m \u001b[0muser_agent\u001b[0m\u001b[1;33m)\u001b[0m\u001b[1;33m\u001b[0m\u001b[1;33m\u001b[0m\u001b[0m\n\u001b[0;32m      3\u001b[0m     \u001b[0msoup\u001b[0m \u001b[1;33m=\u001b[0m \u001b[0mBeautifulSoup\u001b[0m\u001b[1;33m(\u001b[0m\u001b[0mres\u001b[0m\u001b[1;33m.\u001b[0m\u001b[0mtext\u001b[0m\u001b[1;33m,\u001b[0m \u001b[1;34m\"html.parser\"\u001b[0m\u001b[1;33m)\u001b[0m\u001b[1;33m\u001b[0m\u001b[1;33m\u001b[0m\u001b[0m\n\u001b[1;32m----> 4\u001b[1;33m     \u001b[0mnext_btn\u001b[0m \u001b[1;33m=\u001b[0m \u001b[0msoup\u001b[0m\u001b[1;33m.\u001b[0m\u001b[0mfind\u001b[0m\u001b[1;33m(\u001b[0m\u001b[0mclass_\u001b[0m\u001b[1;33m=\u001b[0m \u001b[1;34m\"_0xLoFW FCIprz\"\u001b[0m\u001b[1;33m)\u001b[0m\u001b[1;33m.\u001b[0m\u001b[0mattrs\u001b[0m\u001b[1;33m[\u001b[0m\u001b[1;36m1\u001b[0m\u001b[1;33m]\u001b[0m \u001b[1;31m# observe the similarity with the code snippet used above\u001b[0m\u001b[1;33m\u001b[0m\u001b[1;33m\u001b[0m\u001b[0m\n\u001b[0m\u001b[0;32m      5\u001b[0m     \u001b[1;32mreturn\u001b[0m \u001b[0mnext_btn\u001b[0m\u001b[1;33m.\u001b[0m\u001b[0mfind\u001b[0m\u001b[1;33m(\u001b[0m\u001b[1;34m\"a\"\u001b[0m\u001b[1;33m)\u001b[0m\u001b[1;33m.\u001b[0m\u001b[0mattrs\u001b[0m\u001b[1;33m[\u001b[0m\u001b[1;34m\"href\"\u001b[0m\u001b[1;33m]\u001b[0m \u001b[1;32mif\u001b[0m \u001b[0mnext_btn\u001b[0m \u001b[1;32melse\u001b[0m \u001b[1;32mNone\u001b[0m\u001b[1;33m\u001b[0m\u001b[1;33m\u001b[0m\u001b[0m\n\u001b[0;32m      6\u001b[0m \u001b[1;33m\u001b[0m\u001b[0m\n",
      "\u001b[1;31mKeyError\u001b[0m: 1"
     ]
    }
   ],
   "source": [
    "brand_list = extract_all_brands(\"https://www.zalando.nl/pre-owned-mode-heren/\")"
   ]
  },
  {
   "cell_type": "code",
   "execution_count": 90,
   "metadata": {},
   "outputs": [
    {
     "ename": "SyntaxError",
     "evalue": "invalid syntax (<ipython-input-90-b0ba4e22f1e2>, line 1)",
     "output_type": "error",
     "traceback": [
      "\u001b[1;36m  File \u001b[1;32m\"<ipython-input-90-b0ba4e22f1e2>\"\u001b[1;36m, line \u001b[1;32m1\u001b[0m\n\u001b[1;33m    brand_list[]\u001b[0m\n\u001b[1;37m               ^\u001b[0m\n\u001b[1;31mSyntaxError\u001b[0m\u001b[1;31m:\u001b[0m invalid syntax\n"
     ]
    }
   ],
   "source": [
    "brand_list[]"
   ]
  },
  {
   "cell_type": "code",
   "execution_count": 91,
   "metadata": {},
   "outputs": [
    {
     "data": {
      "text/plain": [
       "1"
      ]
     },
     "execution_count": 91,
     "metadata": {},
     "output_type": "execute_result"
    }
   ],
   "source": [
    "# total number of products\n",
    "len(brands)\n",
    "\n",
    "# check total number of products for a certain brand (e.g. Armani)\n",
    "len([brand for brand in brand_list if \"armani\" in brand[\"brand\"].lower()])"
   ]
  },
  {
   "cell_type": "code",
   "execution_count": 92,
   "metadata": {},
   "outputs": [
    {
     "ename": "SyntaxError",
     "evalue": "invalid syntax (<ipython-input-92-8dd78fab5053>, line 21)",
     "output_type": "error",
     "traceback": [
      "\u001b[1;36m  File \u001b[1;32m\"<ipython-input-92-8dd78fab5053>\"\u001b[1;36m, line \u001b[1;32m21\u001b[0m\n\u001b[1;33m    \"brand\": brand,\u001b[0m\n\u001b[1;37m           ^\u001b[0m\n\u001b[1;31mSyntaxError\u001b[0m\u001b[1;31m:\u001b[0m invalid syntax\n"
     ]
    }
   ],
   "source": [
    "# scraping information from product pages\n",
    "\n",
    "## do not know yet if it works\n",
    "\n",
    "def get_product_pages(brands):\n",
    "    product_pages = []\n",
    "    \n",
    "    for brand in brands: \n",
    "        page_url = brand[\"url\"]\n",
    "\n",
    "        res = requests.get(page_url)\n",
    "        soup = BeautifulSoup(res.text, \"html.parser\")\n",
    "\n",
    "        # scraping the variables we want\n",
    "        brand = soup.find(\"h3\", class_=\"mt1kvu ka2E9k uMhVZi FxZV-M SZKKsK pVrzNP _5Yd-hZ\").text\n",
    "        category = soup.find(\"span\", class_=\"EKabf7 R_QwOV\").text\n",
    "        price = soup.find(\"span\", class_=\"uqkIZw ka2E9k uMhVZi FxZV-M RYghuO pVrzNP\").text\n",
    "        size = soup.find(\"span\", class_=\"_7Cm1F9 ka2E9k uMhVZi dgII7d RYghuO pVrzNP\").text\n",
    "        delivery_time = soup.find(\"span\", class_=\"u-6V88 ka2E9k uMhVZi dgII7d RYghuO pVrzNP\").text\n",
    "        product_pages.append({\"url\", page_url,\n",
    "                             \"brand\": brand,\n",
    "                             \"category\": category,\n",
    "                             \"price\": price,\n",
    "                             \"size\": size,\n",
    "                             \"delivery time\": delivery_time})\n",
    "   \n",
    "    return product_pages\n",
    "\n",
    "product_pages = get_product_pages(brand_list)\n",
    "product_pages"
   ]
  },
  {
   "cell_type": "code",
   "execution_count": null,
   "metadata": {},
   "outputs": [],
   "source": [
    "."
   ]
  },
  {
   "cell_type": "code",
   "execution_count": null,
   "metadata": {},
   "outputs": [],
   "source": [
    "page_url=page_urls[9]\n",
    "page_url"
   ]
  }
 ],
 "metadata": {
  "kernelspec": {
   "display_name": "Python 3",
   "language": "python",
   "name": "python3"
  },
  "language_info": {
   "codemirror_mode": {
    "name": "ipython",
    "version": 3
   },
   "file_extension": ".py",
   "mimetype": "text/x-python",
   "name": "python",
   "nbconvert_exporter": "python",
   "pygments_lexer": "ipython3",
   "version": "3.8.5"
  }
 },
 "nbformat": 4,
 "nbformat_minor": 5
}
